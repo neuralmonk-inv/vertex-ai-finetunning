{
  "cells": [
    {
      "cell_type": "markdown",
      "id": "59296905",
      "metadata": {
        "papermill": {
          "duration": 0.013696,
          "end_time": "2024-03-23T21:36:49.736584",
          "exception": false,
          "start_time": "2024-03-23T21:36:49.722888",
          "status": "completed"
        },
        "tags": [],
        "id": "59296905"
      },
      "source": [
        "## Fine-tune Llama 2 for Sentiment Analysis\n",
        "\n"
      ]
    },
    {
      "cell_type": "markdown",
      "id": "70ec27b9",
      "metadata": {
        "papermill": {
          "duration": 0.013005,
          "end_time": "2024-03-23T21:36:49.763037",
          "exception": false,
          "start_time": "2024-03-23T21:36:49.750032",
          "status": "completed"
        },
        "tags": [],
        "id": "70ec27b9"
      },
      "source": [
        "As a first step, we install the specific libraries necessary to make this example work."
      ]
    },
    {
      "cell_type": "markdown",
      "id": "06f90118",
      "metadata": {
        "papermill": {
          "duration": 0.013896,
          "end_time": "2024-03-23T21:36:49.791049",
          "exception": false,
          "start_time": "2024-03-23T21:36:49.777153",
          "status": "completed"
        },
        "tags": [],
        "id": "06f90118"
      },
      "source": [
        "* accelerate is a distributed training library for PyTorch by HuggingFace. It allows you to train your models on multiple GPUs or CPUs in parallel (distributed configurations), which can significantly speed up training in presence of multiple GPUs (we won't use it in our example).\n",
        "* peft is a Python library by HuggingFace for efficient adaptation of pre-trained language models (PLMs) to various downstream applications without fine-tuning all the model's parameters. PEFT methods only fine-tune a small number of (extra) model parameters, thereby greatly decreasing the computational and storage costs.\n",
        "* bitsandbytes by Tim Dettmers, is a lightweight wrapper around CUDA custom functions, in particular 8-bit optimizers, matrix multiplication (LLM.int8()), and quantization functions. It allows to run models stored in 4-bit precision: while 4-bit bitsandbytes stores weights in 4-bits, the computation still happens in 16 or 32-bit and here any combination can be chosen (float16, bfloat16, float32, and so on).\n",
        "* transformers is a Python library for natural language processing (NLP). It provides a number of pre-trained models for NLP tasks such as text classification, question answering, and machine translation.\n",
        "* trl is a full stack library by HuggingFace providing a set of tools to train transformer language models with Reinforcement Learning, from the Supervised Fine-tuning step (SFT), Reward Modeling step (RM) to the Proximal Policy Optimization (PPO) step."
      ]
    },
    {
      "cell_type": "code",
      "source": [
        "import sys\n",
        "\n",
        "if \"google.colab\" in sys.modules:\n",
        "    ! pip3 install --upgrade google-cloud-aiplatform\n",
        "    ! pip3 install ipython pandas[output_formatting] google-cloud-language==2.10.0\n",
        "    from google.colab import auth as google_auth\n",
        "\n",
        "    google_auth.authenticate_user()\n",
        "\n",
        "    # Restart the notebook kernel after installs.\n",
        "    import IPython\n",
        "\n",
        "    app = IPython.Application.instance()\n",
        "    app.kernel.do_shutdown(True)"
      ],
      "metadata": {
        "id": "FKz1WzezkMpu"
      },
      "execution_count": null,
      "outputs": [],
      "id": "FKz1WzezkMpu"
    },
    {
      "cell_type": "code",
      "source": [
        "import os\n",
        "import sys\n",
        "from datetime import datetime\n",
        "from typing import Tuple\n",
        "\n",
        "from google.cloud import aiplatform, language"
      ],
      "metadata": {
        "id": "RYV8Xpm2kTgx"
      },
      "execution_count": null,
      "outputs": [],
      "id": "RYV8Xpm2kTgx"
    },
    {
      "cell_type": "code",
      "source": [
        "# Cloud project id.\n",
        "PROJECT_ID = \"llm-hosting-414118\"  # @param {type:\"string\"}\n",
        "\n",
        "# Region for launching jobs.\n",
        "REGION = \"us-central1\"  # @param {type:\"string\"}\n",
        "\n",
        "# Cloud Storage bucket for storing experiments output.\n",
        "# Start with gs:// prefix, e.g. gs://foo_bucket.\n",
        "BUCKET_URI = \"gs://us-central1\"  # @param {type:\"string\"}\n",
        "\n",
        "! gcloud config set project $PROJECT_ID\n",
        "! gcloud services enable language.googleapis.com\n",
        "\n",
        "\n",
        "STAGING_BUCKET = os.path.join(BUCKET_URI, \"temporal\")\n",
        "EXPERIMENT_BUCKET = os.path.join(BUCKET_URI, \"peft\")\n",
        "BASE_MODEL_BUCKET = os.path.join(EXPERIMENT_BUCKET, \"base_model\")\n",
        "MODEL_BUCKET = os.path.join(EXPERIMENT_BUCKET, \"model\")\n",
        "\n",
        "# The service account looks like:\n",
        "# '@.iam.gserviceaccount.com'\n",
        "# Please go to https://cloud.google.com/iam/docs/service-accounts-create#iam-service-accounts-create-console\n",
        "# and create service account with `Vertex AI User` and `Storage Object Admin` roles.\n",
        "# The service account for deploying fine tuned model.\n",
        "SERVICE_ACCOUNT = \"llm-host123@llm-hosting-414118.iam.gserviceaccount.com\"  # @param {type:\"string\"}\n",
        "\n",
        "if \"google.colab\" in sys.modules:\n",
        "    from google.colab import auth\n",
        "\n",
        "    auth.authenticate_user(project_id=PROJECT_ID)"
      ],
      "metadata": {
        "id": "KtLcjTudkfRG",
        "colab": {
          "base_uri": "https://localhost:8080/"
        },
        "executionInfo": {
          "status": "ok",
          "timestamp": 1714644048681,
          "user_tz": -330,
          "elapsed": 7745,
          "user": {
            "displayName": "",
            "userId": ""
          }
        },
        "outputId": "667d7604-95fa-421f-a8ee-09908c8b9454"
      },
      "execution_count": null,
      "outputs": [
        {
          "output_type": "stream",
          "name": "stdout",
          "text": [
            "Updated property [core/project].\n"
          ]
        }
      ],
      "id": "KtLcjTudkfRG"
    },
    {
      "cell_type": "code",
      "source": [
        "aiplatform.init(project=PROJECT_ID, location=REGION, staging_bucket=STAGING_BUCKET)"
      ],
      "metadata": {
        "id": "BaMtHc4Vkns1"
      },
      "execution_count": null,
      "outputs": [],
      "id": "BaMtHc4Vkns1"
    },
    {
      "cell_type": "markdown",
      "id": "1f1c9f03",
      "metadata": {
        "papermill": {
          "duration": 0.013676,
          "end_time": "2024-03-23T21:36:49.819301",
          "exception": false,
          "start_time": "2024-03-23T21:36:49.805625",
          "status": "completed"
        },
        "tags": [],
        "id": "1f1c9f03"
      },
      "source": [
        "## Installations and imports"
      ]
    },
    {
      "cell_type": "code",
      "execution_count": 1,
      "id": "c1f75a88",
      "metadata": {
        "execution": {
          "iopub.execute_input": "2024-03-23T21:36:49.848593Z",
          "iopub.status.busy": "2024-03-23T21:36:49.848203Z",
          "iopub.status.idle": "2024-03-23T21:39:17.179583Z",
          "shell.execute_reply": "2024-03-23T21:39:17.178446Z"
        },
        "papermill": {
          "duration": 147.348958,
          "end_time": "2024-03-23T21:39:17.182236",
          "exception": false,
          "start_time": "2024-03-23T21:36:49.833278",
          "status": "completed"
        },
        "tags": [],
        "id": "c1f75a88",
        "executionInfo": {
          "status": "ok",
          "timestamp": 1714651767725,
          "user_tz": -330,
          "elapsed": 9459,
          "user": {
            "displayName": "",
            "userId": ""
          }
        }
      },
      "outputs": [],
      "source": [
        "!pip install -q -U \"torch==2.1.2\" tensorboard"
      ]
    },
    {
      "cell_type": "code",
      "execution_count": 2,
      "id": "2f777ae8",
      "metadata": {
        "execution": {
          "iopub.execute_input": "2024-03-23T21:39:17.210537Z",
          "iopub.status.busy": "2024-03-23T21:39:17.210186Z",
          "iopub.status.idle": "2024-03-23T21:39:50.736572Z",
          "shell.execute_reply": "2024-03-23T21:39:50.735194Z"
        },
        "papermill": {
          "duration": 33.543717,
          "end_time": "2024-03-23T21:39:50.739165",
          "exception": false,
          "start_time": "2024-03-23T21:39:17.195448",
          "status": "completed"
        },
        "tags": [],
        "id": "2f777ae8",
        "executionInfo": {
          "status": "ok",
          "timestamp": 1714651790981,
          "user_tz": -330,
          "elapsed": 10013,
          "user": {
            "displayName": "",
            "userId": ""
          }
        }
      },
      "outputs": [],
      "source": [
        "!pip install -q -U \"transformers==4.36.2\" \"datasets==2.16.1\" \"accelerate==0.26.1\" \"bitsandbytes==0.42.0\""
      ]
    },
    {
      "cell_type": "markdown",
      "id": "5863576e",
      "metadata": {
        "papermill": {
          "duration": 0.012688,
          "end_time": "2024-03-23T21:39:50.764499",
          "exception": false,
          "start_time": "2024-03-23T21:39:50.751811",
          "status": "completed"
        },
        "tags": [],
        "id": "5863576e"
      },
      "source": [
        "The code imports the os module and sets two environment variables:\n",
        "* CUDA_VISIBLE_DEVICES: This environment variable tells PyTorch which GPUs to use. In this case, the code is setting the environment variable to 0, which means that PyTorch will use the first GPU.\n",
        "* TOKENIZERS_PARALLELISM: This environment variable tells the Hugging Face Transformers library whether to parallelize the tokenization process. In this case, the code is setting the environment variable to false, which means that the tokenization process will not be parallelized."
      ]
    },
    {
      "cell_type": "code",
      "execution_count": 3,
      "id": "ab88e06d",
      "metadata": {
        "execution": {
          "iopub.execute_input": "2024-03-23T21:39:50.793123Z",
          "iopub.status.busy": "2024-03-23T21:39:50.792722Z",
          "iopub.status.idle": "2024-03-23T21:40:50.302880Z",
          "shell.execute_reply": "2024-03-23T21:40:50.301597Z"
        },
        "papermill": {
          "duration": 59.527355,
          "end_time": "2024-03-23T21:40:50.305662",
          "exception": false,
          "start_time": "2024-03-23T21:39:50.778307",
          "status": "completed"
        },
        "tags": [],
        "colab": {
          "base_uri": "https://localhost:8080/"
        },
        "id": "ab88e06d",
        "executionInfo": {
          "status": "ok",
          "timestamp": 1714651841520,
          "user_tz": -330,
          "elapsed": 44044,
          "user": {
            "displayName": "",
            "userId": ""
          }
        },
        "outputId": "5fa850d7-5503-4ac6-fe84-a9ffe35c0acd"
      },
      "outputs": [
        {
          "output_type": "stream",
          "name": "stdout",
          "text": [
            "  Installing build dependencies ... \u001b[?25l\u001b[?25hdone\n",
            "  Getting requirements to build wheel ... \u001b[?25l\u001b[?25hdone\n",
            "  Preparing metadata (pyproject.toml) ... \u001b[?25l\u001b[?25hdone\n",
            "  Installing build dependencies ... \u001b[?25l\u001b[?25hdone\n",
            "  Getting requirements to build wheel ... \u001b[?25l\u001b[?25hdone\n",
            "  Preparing metadata (pyproject.toml) ... \u001b[?25l\u001b[?25hdone\n",
            "  Building wheel for peft (pyproject.toml) ... \u001b[?25l\u001b[?25hdone\n"
          ]
        }
      ],
      "source": [
        "!pip install -q -U git+https://github.com/huggingface/trl@a3c5b7178ac4f65569975efadc97db2f3749c65e\n",
        "!pip install -q -U git+https://github.com/huggingface/peft@4a1559582281fc3c9283892caea8ccef1d6f5a4f"
      ]
    },
    {
      "cell_type": "code",
      "execution_count": 4,
      "id": "4f44a2c7",
      "metadata": {
        "execution": {
          "iopub.execute_input": "2024-03-23T21:40:50.335055Z",
          "iopub.status.busy": "2024-03-23T21:40:50.334662Z",
          "iopub.status.idle": "2024-03-23T21:40:50.339843Z",
          "shell.execute_reply": "2024-03-23T21:40:50.338877Z"
        },
        "papermill": {
          "duration": 0.022697,
          "end_time": "2024-03-23T21:40:50.342113",
          "exception": false,
          "start_time": "2024-03-23T21:40:50.319416",
          "status": "completed"
        },
        "tags": [],
        "id": "4f44a2c7",
        "executionInfo": {
          "status": "ok",
          "timestamp": 1714651841521,
          "user_tz": -330,
          "elapsed": 5,
          "user": {
            "displayName": "",
            "userId": ""
          }
        }
      },
      "outputs": [],
      "source": [
        "import os\n",
        "os.environ[\"CUDA_VISIBLE_DEVICES\"] = \"0\"\n",
        "os.environ[\"TOKENIZERS_PARALLELISM\"] = \"false\""
      ]
    },
    {
      "cell_type": "markdown",
      "id": "00e26cd1",
      "metadata": {
        "papermill": {
          "duration": 0.013561,
          "end_time": "2024-03-23T21:40:50.369501",
          "exception": false,
          "start_time": "2024-03-23T21:40:50.355940",
          "status": "completed"
        },
        "tags": [],
        "id": "00e26cd1"
      },
      "source": [
        "The code import warnings; warnings.filterwarnings(\"ignore\") imports the warnings module and sets the warning filter to ignore. This means that all warnings will be suppressed and will not be displayed. Actually during training there are many warnings that do not prevent the fine-tuning but can be distracting and make you wonder if you are doing the correct things."
      ]
    },
    {
      "cell_type": "code",
      "execution_count": 5,
      "id": "a05122e1",
      "metadata": {
        "execution": {
          "iopub.execute_input": "2024-03-23T21:40:50.398965Z",
          "iopub.status.busy": "2024-03-23T21:40:50.398582Z",
          "iopub.status.idle": "2024-03-23T21:40:50.403192Z",
          "shell.execute_reply": "2024-03-23T21:40:50.402221Z"
        },
        "papermill": {
          "duration": 0.021921,
          "end_time": "2024-03-23T21:40:50.405349",
          "exception": false,
          "start_time": "2024-03-23T21:40:50.383428",
          "status": "completed"
        },
        "tags": [],
        "id": "a05122e1",
        "executionInfo": {
          "status": "ok",
          "timestamp": 1714651841521,
          "user_tz": -330,
          "elapsed": 4,
          "user": {
            "displayName": "",
            "userId": ""
          }
        }
      },
      "outputs": [],
      "source": [
        "import warnings\n",
        "warnings.filterwarnings(\"ignore\")"
      ]
    },
    {
      "cell_type": "markdown",
      "id": "5163c30b",
      "metadata": {
        "papermill": {
          "duration": 0.013551,
          "end_time": "2024-03-23T21:40:50.485036",
          "exception": false,
          "start_time": "2024-03-23T21:40:50.471485",
          "status": "completed"
        },
        "tags": [],
        "id": "5163c30b"
      },
      "source": [
        "In the following cell there are all the other imports for running the notebook"
      ]
    },
    {
      "cell_type": "code",
      "execution_count": 6,
      "id": "f9665a37",
      "metadata": {
        "execution": {
          "iopub.execute_input": "2024-03-23T21:40:50.516128Z",
          "iopub.status.busy": "2024-03-23T21:40:50.515748Z",
          "iopub.status.idle": "2024-03-23T21:41:09.051428Z",
          "shell.execute_reply": "2024-03-23T21:41:09.050358Z"
        },
        "papermill": {
          "duration": 18.554072,
          "end_time": "2024-03-23T21:41:09.054340",
          "exception": false,
          "start_time": "2024-03-23T21:40:50.500268",
          "status": "completed"
        },
        "tags": [],
        "id": "f9665a37",
        "executionInfo": {
          "status": "ok",
          "timestamp": 1714651848416,
          "user_tz": -330,
          "elapsed": 6899,
          "user": {
            "displayName": "",
            "userId": ""
          }
        }
      },
      "outputs": [],
      "source": [
        "import numpy as np\n",
        "import pandas as pd\n",
        "import os\n",
        "from tqdm import tqdm\n",
        "import bitsandbytes as bnb\n",
        "import torch\n",
        "import torch.nn as nn\n",
        "import transformers\n",
        "from datasets import Dataset\n",
        "from peft import LoraConfig, PeftConfig\n",
        "from trl import SFTTrainer\n",
        "from trl import setup_chat_format\n",
        "from transformers import (AutoModelForCausalLM,\n",
        "                          AutoTokenizer,\n",
        "                          BitsAndBytesConfig,\n",
        "                          TrainingArguments,\n",
        "                          pipeline,\n",
        "                          logging)\n",
        "from sklearn.metrics import (accuracy_score,\n",
        "                             classification_report,\n",
        "                             confusion_matrix)\n",
        "from sklearn.model_selection import train_test_split"
      ]
    },
    {
      "cell_type": "code",
      "execution_count": 7,
      "id": "465aaaf0",
      "metadata": {
        "execution": {
          "iopub.execute_input": "2024-03-23T21:41:09.084567Z",
          "iopub.status.busy": "2024-03-23T21:41:09.084113Z",
          "iopub.status.idle": "2024-03-23T21:41:09.089638Z",
          "shell.execute_reply": "2024-03-23T21:41:09.088738Z"
        },
        "papermill": {
          "duration": 0.022537,
          "end_time": "2024-03-23T21:41:09.092069",
          "exception": false,
          "start_time": "2024-03-23T21:41:09.069532",
          "status": "completed"
        },
        "tags": [],
        "colab": {
          "base_uri": "https://localhost:8080/"
        },
        "id": "465aaaf0",
        "executionInfo": {
          "status": "ok",
          "timestamp": 1714651848416,
          "user_tz": -330,
          "elapsed": 4,
          "user": {
            "displayName": "",
            "userId": ""
          }
        },
        "outputId": "82c7884f-2f9d-4c1a-d92c-ee4a281ce834"
      },
      "outputs": [
        {
          "output_type": "stream",
          "name": "stdout",
          "text": [
            "pytorch version 2.1.2+cu121\n"
          ]
        }
      ],
      "source": [
        "print(f\"pytorch version {torch.__version__}\")"
      ]
    },
    {
      "cell_type": "code",
      "execution_count": 8,
      "id": "65075196",
      "metadata": {
        "execution": {
          "iopub.execute_input": "2024-03-23T21:41:09.120788Z",
          "iopub.status.busy": "2024-03-23T21:41:09.120411Z",
          "iopub.status.idle": "2024-03-23T21:41:09.126225Z",
          "shell.execute_reply": "2024-03-23T21:41:09.125207Z"
        },
        "papermill": {
          "duration": 0.022891,
          "end_time": "2024-03-23T21:41:09.128571",
          "exception": false,
          "start_time": "2024-03-23T21:41:09.105680",
          "status": "completed"
        },
        "tags": [],
        "colab": {
          "base_uri": "https://localhost:8080/"
        },
        "id": "65075196",
        "executionInfo": {
          "status": "ok",
          "timestamp": 1714651848416,
          "user_tz": -330,
          "elapsed": 3,
          "user": {
            "displayName": "",
            "userId": ""
          }
        },
        "outputId": "32e69cc8-58a7-48f8-e969-0de34d59d7a0"
      },
      "outputs": [
        {
          "output_type": "stream",
          "name": "stdout",
          "text": [
            "working on cuda:0\n"
          ]
        }
      ],
      "source": [
        "device = torch.device(\"cuda:0\" if torch.cuda.is_available() else \"cpu\")\n",
        "print(f\"working on {device}\")"
      ]
    },
    {
      "cell_type": "markdown",
      "id": "c6be7991",
      "metadata": {
        "papermill": {
          "duration": 0.013703,
          "end_time": "2024-03-23T21:41:09.156361",
          "exception": false,
          "start_time": "2024-03-23T21:41:09.142658",
          "status": "completed"
        },
        "tags": [],
        "id": "c6be7991"
      },
      "source": [
        "## Preparing the data and the core evaluation functions"
      ]
    },
    {
      "cell_type": "markdown",
      "id": "0e03700c",
      "metadata": {
        "papermill": {
          "duration": 0.013689,
          "end_time": "2024-03-23T21:41:09.184585",
          "exception": false,
          "start_time": "2024-03-23T21:41:09.170896",
          "status": "completed"
        },
        "tags": [],
        "id": "0e03700c"
      },
      "source": [
        "The code in the next cell performs the following steps:\n",
        "\n",
        "1. Reads the input dataset from the all-data.csv file, which is a comma-separated value (CSV) file with two columns: sentiment and text.\n",
        "2. Splits the dataset into training and test sets, with 300 samples in each set. The split is stratified by sentiment, so that each set contains a representative sample of positive, neutral, and negative sentiments.\n",
        "3. Shuffles the train data in a replicable order (random_state=10)\n",
        "4. Transforms the texts contained in the train and test data into prompts to be used by Llama: the train prompts contains the expected answer we want to fine-tune the model with\n",
        "5. The residual examples not in train or test, for reporting purposes during training (but it won't be used for early stopping), is treated as evaluation data, which is sampled with repetition in order to have a 50/50/50 sample (negative instances are very few, hence they should be repeated)\n",
        "5. The train and eval data are wrapped by the class from Hugging Face (https://huggingface.co/docs/datasets/index)\n",
        "\n",
        "This prepares in a single cell train_data, eval_data and test_data datasets to be used in our fine tuning."
      ]
    },
    {
      "cell_type": "code",
      "source": [
        " !gsutil cp gs://llm-finetune/dataset/all-data.csv /content/"
      ],
      "metadata": {
        "id": "f4fWVzdk6_Hx"
      },
      "id": "f4fWVzdk6_Hx",
      "execution_count": null,
      "outputs": []
    },
    {
      "cell_type": "code",
      "execution_count": 9,
      "id": "06aae80e",
      "metadata": {
        "execution": {
          "iopub.execute_input": "2024-03-23T21:41:09.214155Z",
          "iopub.status.busy": "2024-03-23T21:41:09.213282Z",
          "iopub.status.idle": "2024-03-23T21:41:10.657336Z",
          "shell.execute_reply": "2024-03-23T21:41:10.656320Z"
        },
        "papermill": {
          "duration": 1.461477,
          "end_time": "2024-03-23T21:41:10.659919",
          "exception": false,
          "start_time": "2024-03-23T21:41:09.198442",
          "status": "completed"
        },
        "tags": [],
        "id": "06aae80e",
        "executionInfo": {
          "status": "ok",
          "timestamp": 1714651853826,
          "user_tz": -330,
          "elapsed": 2308,
          "user": {
            "displayName": "",
            "userId": ""
          }
        }
      },
      "outputs": [],
      "source": [
        "filename = \"/content/all-data.csv\"\n",
        "\n",
        "df = pd.read_csv(filename,\n",
        "                 names=[\"sentiment\", \"text\"],\n",
        "                 encoding=\"utf-8\", encoding_errors=\"replace\")\n",
        "\n",
        "X_train = list()\n",
        "X_test = list()\n",
        "for sentiment in [\"positive\", \"neutral\", \"negative\"]:\n",
        "    train, test  = train_test_split(df[df.sentiment==sentiment],\n",
        "                                    train_size=300,\n",
        "                                    test_size=300,\n",
        "                                    random_state=42)\n",
        "    X_train.append(train)\n",
        "    X_test.append(test)\n",
        "\n",
        "X_train = pd.concat(X_train).sample(frac=1, random_state=10)\n",
        "X_test = pd.concat(X_test)\n",
        "\n",
        "eval_idx = [idx for idx in df.index if idx not in list(X_train.index) + list(X_test.index)]\n",
        "X_eval = df[df.index.isin(eval_idx)]\n",
        "X_eval = (X_eval\n",
        "          .groupby('sentiment', group_keys=False)\n",
        "          .apply(lambda x: x.sample(n=50, random_state=10, replace=True)))\n",
        "X_train = X_train.reset_index(drop=True)\n",
        "\n",
        "def generate_prompt(data_point):\n",
        "    return f\"\"\"\n",
        "            Analyze the sentiment of the news headline enclosed in square brackets,\n",
        "            determine if it is positive, neutral, or negative, and return the answer as\n",
        "            the corresponding sentiment label \"positive\" or \"neutral\" or \"negative\".\n",
        "\n",
        "            [{data_point[\"text\"]}] = {data_point[\"sentiment\"]}\n",
        "            \"\"\".strip()\n",
        "\n",
        "def generate_test_prompt(data_point):\n",
        "    return f\"\"\"\n",
        "            Analyze the sentiment of the news headline enclosed in square brackets,\n",
        "            determine if it is positive, neutral, or negative, and return the answer as\n",
        "            the corresponding sentiment label \"positive\" or \"neutral\" or \"negative\".\n",
        "\n",
        "            [{data_point[\"text\"]}] = \"\"\".strip()\n",
        "\n",
        "X_train = pd.DataFrame(X_train.apply(generate_prompt, axis=1),\n",
        "                       columns=[\"text\"])\n",
        "X_eval = pd.DataFrame(X_eval.apply(generate_prompt, axis=1),\n",
        "                      columns=[\"text\"])\n",
        "\n",
        "y_true = X_test.sentiment\n",
        "X_test = pd.DataFrame(X_test.apply(generate_test_prompt, axis=1), columns=[\"text\"])\n",
        "\n",
        "train_data = Dataset.from_pandas(X_train)\n",
        "eval_data = Dataset.from_pandas(X_eval)"
      ]
    },
    {
      "cell_type": "markdown",
      "id": "de6f60c5",
      "metadata": {
        "papermill": {
          "duration": 0.012651,
          "end_time": "2024-03-23T21:41:10.686316",
          "exception": false,
          "start_time": "2024-03-23T21:41:10.673665",
          "status": "completed"
        },
        "tags": [],
        "id": "de6f60c5"
      },
      "source": [
        "Next we create a function to evaluate the results from our fine-tuned sentiment model. The function performs the following steps:\n",
        "\n",
        "1. Maps the sentiment labels to a numerical representation, where 2 represents positive, 1 represents neutral, and 0 represents negative.\n",
        "2. Calculates the accuracy of the model on the test data.\n",
        "3. Generates an accuracy report for each sentiment label.\n",
        "4. Generates a classification report for the model.\n",
        "5. Generates a confusion matrix for the model."
      ]
    },
    {
      "cell_type": "code",
      "execution_count": 10,
      "id": "fcddb6bf",
      "metadata": {
        "execution": {
          "iopub.execute_input": "2024-03-23T21:41:10.716310Z",
          "iopub.status.busy": "2024-03-23T21:41:10.715477Z",
          "iopub.status.idle": "2024-03-23T21:41:10.726110Z",
          "shell.execute_reply": "2024-03-23T21:41:10.725205Z"
        },
        "papermill": {
          "duration": 0.028778,
          "end_time": "2024-03-23T21:41:10.728498",
          "exception": false,
          "start_time": "2024-03-23T21:41:10.699720",
          "status": "completed"
        },
        "tags": [],
        "id": "fcddb6bf",
        "executionInfo": {
          "status": "ok",
          "timestamp": 1714651862524,
          "user_tz": -330,
          "elapsed": 2153,
          "user": {
            "displayName": "",
            "userId": ""
          }
        }
      },
      "outputs": [],
      "source": [
        "def evaluate(y_true, y_pred):\n",
        "    labels = ['positive', 'neutral', 'negative']\n",
        "    mapping = {'positive': 2, 'neutral': 1, 'none':1, 'negative': 0}\n",
        "    def map_func(x):\n",
        "        return mapping.get(x, 1)\n",
        "\n",
        "    y_true = np.vectorize(map_func)(y_true)\n",
        "    y_pred = np.vectorize(map_func)(y_pred)\n",
        "\n",
        "    # Calculate accuracy\n",
        "    accuracy = accuracy_score(y_true=y_true, y_pred=y_pred)\n",
        "    print(f'Accuracy: {accuracy:.3f}')\n",
        "\n",
        "    # Generate accuracy report\n",
        "    unique_labels = set(y_true)  # Get unique labels\n",
        "\n",
        "    for label in unique_labels:\n",
        "        label_indices = [i for i in range(len(y_true))\n",
        "                         if y_true[i] == label]\n",
        "        label_y_true = [y_true[i] for i in label_indices]\n",
        "        label_y_pred = [y_pred[i] for i in label_indices]\n",
        "        accuracy = accuracy_score(label_y_true, label_y_pred)\n",
        "        print(f'Accuracy for label {label}: {accuracy:.3f}')\n",
        "\n",
        "    # Generate classification report\n",
        "    class_report = classification_report(y_true=y_true, y_pred=y_pred)\n",
        "    print('\\nClassification Report:')\n",
        "    print(class_report)\n",
        "\n",
        "    # Generate confusion matrix\n",
        "    conf_matrix = confusion_matrix(y_true=y_true, y_pred=y_pred, labels=[0, 1, 2])\n",
        "    print('\\nConfusion Matrix:')\n",
        "    print(conf_matrix)"
      ]
    },
    {
      "cell_type": "markdown",
      "id": "f0f88a6b",
      "metadata": {
        "papermill": {
          "duration": 0.014621,
          "end_time": "2024-03-23T21:41:10.757726",
          "exception": false,
          "start_time": "2024-03-23T21:41:10.743105",
          "status": "completed"
        },
        "tags": [],
        "id": "f0f88a6b"
      },
      "source": [
        "## Testing the model without fine-tuning"
      ]
    },
    {
      "cell_type": "markdown",
      "id": "f714b08d",
      "metadata": {
        "papermill": {
          "duration": 0.018193,
          "end_time": "2024-03-23T21:41:10.796977",
          "exception": false,
          "start_time": "2024-03-23T21:41:10.778784",
          "status": "completed"
        },
        "tags": [],
        "id": "f714b08d"
      },
      "source": [
        "Next we need to take care of the model, which is a 7b-hf (7 billion parameters, no RLHF, in the HuggingFace compatible format), loading from Kaggle models and quantization.\n",
        "\n",
        "Model loading and quantization:\n",
        "\n",
        "* First the code loads the Llama-2 language model from the Hugging Face Hub.\n",
        "* Then the code gets the float16 data type from the torch library. This is the data type that will be used for the computations.\n",
        "* Next, it creates a BitsAndBytesConfig object with the following settings:\n",
        "    1. load_in_4bit: Load the model weights in 4-bit format.\n",
        "    2. bnb_4bit_quant_type: Use the \"nf4\" quantization type. 4-bit NormalFloat (NF4), is a new data type that is information theoretically optimal for normally distributed weights.\n",
        "    3. bnb_4bit_compute_dtype: Use the float16 data type for computations.\n",
        "    4. bnb_4bit_use_double_quant: Do not use double quantization (reduces the average memory footprint by quantizing also the quantization constants and saves an additional 0.4 bits per parameter.).\n",
        "* Then the code creates a AutoModelForCausalLM object from the pre-trained Llama-2 language model, using the BitsAndBytesConfig object for quantization.\n",
        "* After that, the code disables caching for the model.\n",
        "* Finally the code sets the pre-training token probability to 1.\n",
        "\n",
        "Tokenizer loading:\n",
        "\n",
        "* First, the code loads the tokenizer for the Llama-2 language model.\n",
        "* Then it sets the padding token to be the end-of-sequence (EOS) token.\n",
        "* Finally, the code sets the padding side to be \"right\", which means that the input sequences will be padded on the right side. This is crucial for correct padding direction (this is the way with Llama 2)."
      ]
    },
    {
      "cell_type": "code",
      "source": [
        "!mkdir -p /content/llama2-7b-chat-hf/"
      ],
      "metadata": {
        "id": "IR5L9iiRyCZU"
      },
      "id": "IR5L9iiRyCZU",
      "execution_count": null,
      "outputs": []
    },
    {
      "cell_type": "code",
      "source": [
        "!gsutil -m cp -r gs://llm-finetune/peft/base_model/llama2/llama2-7b-chat-hf /content/llama2-7b-chat-hf/"
      ],
      "metadata": {
        "colab": {
          "base_uri": "https://localhost:8080/"
        },
        "id": "GxP4epZVmUFX",
        "executionInfo": {
          "status": "ok",
          "timestamp": 1714644753519,
          "user_tz": -330,
          "elapsed": 138006,
          "user": {
            "displayName": "",
            "userId": ""
          }
        },
        "outputId": "15503b09-8896-4b0b-9ab1-27628f91c1f8"
      },
      "id": "GxP4epZVmUFX",
      "execution_count": null,
      "outputs": [
        {
          "output_type": "stream",
          "name": "stdout",
          "text": [
            "Copying gs://llm-finetune/peft/base_model/llama2/llama2-7b-chat-hf/LICENSE...\n",
            "/ [0/16 files][    0.0 B/ 12.6 GiB]   0% Done                                   \rCopying gs://llm-finetune/peft/base_model/llama2/llama2-7b-chat-hf/LLaMA V2 Model Preview User Guide.pdf...\n",
            "/ [0/16 files][    0.0 B/ 12.6 GiB]   0% Done                                   \rCopying gs://llm-finetune/peft/base_model/llama2/llama2-7b-chat-hf/MODEL_CARD.md...\n",
            "/ [0/16 files][    0.0 B/ 12.6 GiB]   0% Done                                   \rCopying gs://llm-finetune/peft/base_model/llama2/llama2-7b-chat-hf/Responsible-Use-Guide.pdf...\n",
            "/ [0/16 files][    0.0 B/ 12.6 GiB]   0% Done                                   \rCopying gs://llm-finetune/peft/base_model/llama2/llama2-7b-chat-hf/Notice-File.docx...\n",
            "/ [0/16 files][    0.0 B/ 12.6 GiB]   0% Done                                   \rCopying gs://llm-finetune/peft/base_model/llama2/llama2-7b-chat-hf/USE_POLICY.md...\n",
            "/ [0/16 files][    0.0 B/ 12.6 GiB]   0% Done                                   \rCopying gs://llm-finetune/peft/base_model/llama2/llama2-7b-chat-hf/config.json...\n",
            "/ [0/16 files][    0.0 B/ 12.6 GiB]   0% Done                                   \rCopying gs://llm-finetune/peft/base_model/llama2/llama2-7b-chat-hf/config.json.bak...\n",
            "/ [0/16 files][    0.0 B/ 12.6 GiB]   0% Done                                   \rCopying gs://llm-finetune/peft/base_model/llama2/llama2-7b-chat-hf/generation_config.json...\n",
            "/ [0/16 files][    0.0 B/ 12.6 GiB]   0% Done                                   \rCopying gs://llm-finetune/peft/base_model/llama2/llama2-7b-chat-hf/pytorch_model-00001-of-00002.bin...\n",
            "/ [0/16 files][    0.0 B/ 12.6 GiB]   0% Done                                   \rCopying gs://llm-finetune/peft/base_model/llama2/llama2-7b-chat-hf/pytorch_model-00002-of-00002.bin...\n",
            "/ [0/16 files][    0.0 B/ 12.6 GiB]   0% Done                                   \r==> NOTE: You are downloading one or more large file(s), which would\n",
            "run significantly faster if you enabled sliced object downloads. This\n",
            "feature is enabled by default but requires that compiled crcmod be\n",
            "installed (see \"gsutil help crcmod\").\n",
            "\n",
            "Copying gs://llm-finetune/peft/base_model/llama2/llama2-7b-chat-hf/pytorch_model.bin.index.json...\n",
            "/ [0/16 files][    0.0 B/ 12.6 GiB]   0% Done                                   \rCopying gs://llm-finetune/peft/base_model/llama2/llama2-7b-chat-hf/tokenizer.json...\n",
            "/ [0/16 files][    0.0 B/ 12.6 GiB]   0% Done                                   \rCopying gs://llm-finetune/peft/base_model/llama2/llama2-7b-chat-hf/special_tokens_map.json...\n",
            "/ [0/16 files][    0.0 B/ 12.6 GiB]   0% Done                                   \rCopying gs://llm-finetune/peft/base_model/llama2/llama2-7b-chat-hf/tokenizer.model...\n",
            "Copying gs://llm-finetune/peft/base_model/llama2/llama2-7b-chat-hf/tokenizer_config.json...\n",
            "|\n",
            "Operation completed over 16 objects/12.6 GiB.                                    \n"
          ]
        }
      ]
    },
    {
      "cell_type": "code",
      "execution_count": 11,
      "id": "9dc75b57",
      "metadata": {
        "execution": {
          "iopub.execute_input": "2024-03-23T21:41:10.826455Z",
          "iopub.status.busy": "2024-03-23T21:41:10.825664Z",
          "iopub.status.idle": "2024-03-23T21:44:32.613423Z",
          "shell.execute_reply": "2024-03-23T21:44:32.612333Z"
        },
        "papermill": {
          "duration": 201.805744,
          "end_time": "2024-03-23T21:44:32.616261",
          "exception": false,
          "start_time": "2024-03-23T21:41:10.810517",
          "status": "completed"
        },
        "tags": [],
        "colab": {
          "base_uri": "https://localhost:8080/",
          "height": 49,
          "referenced_widgets": [
            "ef083149f12e4d78b7fda5320b5cd023",
            "8fac63a67b9d419b9186586c53d1af18",
            "50d5f8beb78249bfa405005acffaffc8",
            "cc31ed142ed2476ba392f3c9de59f03a",
            "3379b8245ffd4c009c692c8024b205af",
            "ef206b0684564b8b8502e6e5e7f16a23",
            "3cdc77760d2d4890ad6e9e6006facda9",
            "943daaa4315244968ecd7114e2f9310b",
            "a37b253222504397860dedd64d47c803",
            "96fc927e42044d018411aa17a874ed2f",
            "a423f9af7ba649c9b274709e5b43f6c8"
          ]
        },
        "id": "9dc75b57",
        "executionInfo": {
          "status": "ok",
          "timestamp": 1714651887360,
          "user_tz": -330,
          "elapsed": 14164,
          "user": {
            "displayName": "",
            "userId": ""
          }
        },
        "outputId": "aada12c6-935e-4205-fa80-7d6ded587093"
      },
      "outputs": [
        {
          "output_type": "display_data",
          "data": {
            "text/plain": [
              "Loading checkpoint shards:   0%|          | 0/2 [00:00<?, ?it/s]"
            ],
            "application/vnd.jupyter.widget-view+json": {
              "version_major": 2,
              "version_minor": 0,
              "model_id": "ef083149f12e4d78b7fda5320b5cd023"
            }
          },
          "metadata": {}
        }
      ],
      "source": [
        "model_name = \"/content/llama2-7b-chat-hf/llama2-7b-chat-hf\"\n",
        "compute_dtype = getattr(torch, \"float16\")\n",
        "\n",
        "bnb_config = BitsAndBytesConfig(\n",
        "    load_in_4bit=True,\n",
        "    bnb_4bit_quant_type=\"nf4\",\n",
        "    bnb_4bit_compute_dtype=compute_dtype,\n",
        "    bnb_4bit_use_double_quant=True,\n",
        ")\n",
        "\n",
        "model = AutoModelForCausalLM.from_pretrained(\n",
        "    model_name,\n",
        "    device_map=device,\n",
        "    torch_dtype=compute_dtype,\n",
        "    quantization_config=bnb_config,\n",
        ")\n",
        "\n",
        "model.config.use_cache = False\n",
        "model.config.pretraining_tp = 1\n",
        "\n",
        "tokenizer = AutoTokenizer.from_pretrained(model_name,\n",
        "                                          trust_remote_code=True,\n",
        "                                         )\n",
        "tokenizer.pad_token = tokenizer.eos_token\n",
        "tokenizer.padding_side = \"right\"\n",
        "\n",
        "model, tokenizer = setup_chat_format(model, tokenizer)"
      ]
    },
    {
      "cell_type": "markdown",
      "id": "96699ba5",
      "metadata": {
        "papermill": {
          "duration": 0.012789,
          "end_time": "2024-03-23T21:44:32.642920",
          "exception": false,
          "start_time": "2024-03-23T21:44:32.630131",
          "status": "completed"
        },
        "tags": [],
        "id": "96699ba5"
      },
      "source": [
        "In the next cell, we set a function for predicting the sentiment of a news headline using the Llama-2 language model. The function takes three arguments:\n",
        "\n",
        "test: A Pandas DataFrame containing the news headlines to be predicted.\n",
        "model: The pre-trained Llama-2 language model.\n",
        "tokenizer: The tokenizer for the Llama-2 language model.\n",
        "\n",
        "The function works as follows:\n",
        "\n",
        "1. For each news headline in the test DataFrame:\n",
        "    * Create a prompt for the language model, which asks it to analyze the sentiment of the news headline and return the corresponding sentiment label.\n",
        "    * Use the pipeline() function from the Hugging Face Transformers library to generate text from the language model, using the prompt.\n",
        "    * Extract the predicted sentiment label from the generated text.\n",
        "    * Append the predicted sentiment label to the y_pred list.\n",
        "2. Return the y_pred list.\n",
        "\n",
        "The pipeline() function from the Hugging Face Transformers library is used to generate text from the language model. The task argument specifies that the task is text generation. The model and tokenizer arguments specify the pre-trained Llama-2 language model and the tokenizer for the language model. The max_new_tokens argument specifies the maximum number of new tokens to generate. The temperature argument controls the randomness of the generated text. A lower temperature will produce more predictable text, while a higher temperature will produce more creative and unexpected text.\n",
        "\n",
        "The if statement checks if the generated text contains the word \"positive\". If it does, then the predicted sentiment label is \"positive\". Otherwise, the if statement checks if the generated text contains the word \"negative\". If it does, then the predicted sentiment label is \"negative\". Otherwise, the if statement checks if the generated text contains the word \"neutral\". If it does, then the predicted sentiment label is \"neutral."
      ]
    },
    {
      "cell_type": "code",
      "execution_count": 12,
      "id": "6ca50c2c",
      "metadata": {
        "execution": {
          "iopub.execute_input": "2024-03-23T21:44:32.670240Z",
          "iopub.status.busy": "2024-03-23T21:44:32.669628Z",
          "iopub.status.idle": "2024-03-23T21:44:32.677085Z",
          "shell.execute_reply": "2024-03-23T21:44:32.676190Z"
        },
        "papermill": {
          "duration": 0.023545,
          "end_time": "2024-03-23T21:44:32.679155",
          "exception": false,
          "start_time": "2024-03-23T21:44:32.655610",
          "status": "completed"
        },
        "tags": [],
        "id": "6ca50c2c",
        "executionInfo": {
          "status": "ok",
          "timestamp": 1714651917707,
          "user_tz": -330,
          "elapsed": 1224,
          "user": {
            "displayName": "",
            "userId": ""
          }
        }
      },
      "outputs": [],
      "source": [
        "def predict(test, model, tokenizer):\n",
        "    y_pred = []\n",
        "    for i in tqdm(range(len(X_test))):\n",
        "        prompt = X_test.iloc[i][\"text\"]\n",
        "        pipe = pipeline(task=\"text-generation\",\n",
        "                        model=model,\n",
        "                        tokenizer=tokenizer,\n",
        "                        max_new_tokens = 1,\n",
        "                        temperature = 0.0,\n",
        "                       )\n",
        "        result = pipe(prompt)\n",
        "        answer = result[0]['generated_text'].split(\"=\")[-1]\n",
        "        if \"positive\" in answer:\n",
        "            y_pred.append(\"positive\")\n",
        "        elif \"negative\" in answer:\n",
        "            y_pred.append(\"negative\")\n",
        "        elif \"neutral\" in answer:\n",
        "            y_pred.append(\"neutral\")\n",
        "        else:\n",
        "            y_pred.append(\"none\")\n",
        "    return y_pred"
      ]
    },
    {
      "cell_type": "markdown",
      "id": "8fcc276b",
      "metadata": {
        "papermill": {
          "duration": 0.014414,
          "end_time": "2024-03-23T21:44:32.706065",
          "exception": false,
          "start_time": "2024-03-23T21:44:32.691651",
          "status": "completed"
        },
        "tags": [],
        "id": "8fcc276b"
      },
      "source": [
        "At this point, we are ready to test the Llama 2 7b-hf model and see how it performs on our problem without any fine-tuning. This allows us to get insights on the model itself and establish a baseline."
      ]
    },
    {
      "cell_type": "code",
      "execution_count": 13,
      "id": "09840a02",
      "metadata": {
        "execution": {
          "iopub.execute_input": "2024-03-23T21:44:32.742963Z",
          "iopub.status.busy": "2024-03-23T21:44:32.741854Z",
          "iopub.status.idle": "2024-03-23T21:50:02.066363Z",
          "shell.execute_reply": "2024-03-23T21:50:02.065232Z"
        },
        "papermill": {
          "duration": 329.347664,
          "end_time": "2024-03-23T21:50:02.069017",
          "exception": false,
          "start_time": "2024-03-23T21:44:32.721353",
          "status": "completed"
        },
        "tags": [],
        "id": "09840a02",
        "outputId": "3c580619-21c0-4874-8fb7-ca4af3a52a2d",
        "colab": {
          "base_uri": "https://localhost:8080/"
        },
        "executionInfo": {
          "status": "ok",
          "timestamp": 1714652017601,
          "user_tz": -330,
          "elapsed": 97453,
          "user": {
            "displayName": "",
            "userId": ""
          }
        }
      },
      "outputs": [
        {
          "output_type": "stream",
          "name": "stderr",
          "text": [
            "100%|██████████| 900/900 [01:36<00:00,  9.34it/s]\n"
          ]
        }
      ],
      "source": [
        "y_pred = predict(test, model, tokenizer)"
      ]
    },
    {
      "cell_type": "markdown",
      "id": "6aef060a",
      "metadata": {
        "papermill": {
          "duration": 0.085302,
          "end_time": "2024-03-23T21:50:02.241062",
          "exception": false,
          "start_time": "2024-03-23T21:50:02.155760",
          "status": "completed"
        },
        "tags": [],
        "id": "6aef060a"
      },
      "source": [
        "In the following cell, we evaluate the results. There is little to be said, it is performing really terribly because the 7b-hf model tends to just predict a neutral sentiment and seldom it detects positive or negative sentiment."
      ]
    },
    {
      "cell_type": "code",
      "execution_count": 14,
      "id": "46e429f0",
      "metadata": {
        "execution": {
          "iopub.execute_input": "2024-03-23T21:50:02.417900Z",
          "iopub.status.busy": "2024-03-23T21:50:02.417500Z",
          "iopub.status.idle": "2024-03-23T21:50:02.442949Z",
          "shell.execute_reply": "2024-03-23T21:50:02.441685Z"
        },
        "papermill": {
          "duration": 0.117726,
          "end_time": "2024-03-23T21:50:02.445577",
          "exception": false,
          "start_time": "2024-03-23T21:50:02.327851",
          "status": "completed"
        },
        "tags": [],
        "id": "46e429f0",
        "outputId": "270caa77-1cf0-4b7c-b514-136275300cc4",
        "colab": {
          "base_uri": "https://localhost:8080/"
        },
        "executionInfo": {
          "status": "ok",
          "timestamp": 1714652017601,
          "user_tz": -330,
          "elapsed": 3,
          "user": {
            "displayName": "",
            "userId": ""
          }
        }
      },
      "outputs": [
        {
          "output_type": "stream",
          "name": "stdout",
          "text": [
            "Accuracy: 0.716\n",
            "Accuracy for label 0: 0.950\n",
            "Accuracy for label 1: 0.327\n",
            "Accuracy for label 2: 0.870\n",
            "\n",
            "Classification Report:\n",
            "              precision    recall  f1-score   support\n",
            "\n",
            "           0       0.78      0.95      0.86       300\n",
            "           1       0.74      0.33      0.45       300\n",
            "           2       0.65      0.87      0.74       300\n",
            "\n",
            "    accuracy                           0.72       900\n",
            "   macro avg       0.72      0.72      0.68       900\n",
            "weighted avg       0.72      0.72      0.68       900\n",
            "\n",
            "\n",
            "Confusion Matrix:\n",
            "[[285  11   4]\n",
            " [ 66  98 136]\n",
            " [ 15  24 261]]\n"
          ]
        }
      ],
      "source": [
        "evaluate(y_true, y_pred)"
      ]
    },
    {
      "cell_type": "markdown",
      "id": "2c9a6949",
      "metadata": {
        "papermill": {
          "duration": 0.090861,
          "end_time": "2024-03-23T21:50:02.636995",
          "exception": false,
          "start_time": "2024-03-23T21:50:02.546134",
          "status": "completed"
        },
        "tags": [],
        "id": "2c9a6949"
      },
      "source": [
        "## Fine-tuning"
      ]
    },
    {
      "cell_type": "markdown",
      "id": "f01c5775",
      "metadata": {
        "papermill": {
          "duration": 0.097357,
          "end_time": "2024-03-23T21:50:02.835655",
          "exception": false,
          "start_time": "2024-03-23T21:50:02.738298",
          "status": "completed"
        },
        "tags": [],
        "id": "f01c5775"
      },
      "source": [
        "In the next cell we set everything ready for the fine-tuning. We configures and initializes a Simple Fine-tuning Trainer (SFTTrainer) for training a large language model using the Parameter-Efficient Fine-Tuning (PEFT) method, which should save time as it operates on a reduced number of parameters compared to the model's overall size. The PEFT method focuses on refining a limited set of (additional) model parameters, while keeping the majority of the pre-trained LLM parameters fixed. This significantly reduces both computational and storage expenses. Additionally, this strategy addresses the challenge of catastrophic forgetting, which often occurs during the complete fine-tuning of LLMs.\n",
        "\n",
        "PEFTConfig:\n",
        "\n",
        "The peft_config object specifies the parameters for PEFT. The following are some of the most important parameters:\n",
        "\n",
        "* lora_alpha: The learning rate for the LoRA update matrices.\n",
        "* lora_dropout: The dropout probability for the LoRA update matrices.\n",
        "* r: The rank of the LoRA update matrices.\n",
        "* bias: The type of bias to use. The possible values are none, additive, and learned.\n",
        "* task_type: The type of task that the model is being trained for. The possible values are CAUSAL_LM and MASKED_LM.\n",
        "\n",
        "TrainingArguments:\n",
        "\n",
        "The training_arguments object specifies the parameters for training the model. The following are some of the most important parameters:\n",
        "\n",
        "* output_dir: The directory where the training logs and checkpoints will be saved.\n",
        "* num_train_epochs: The number of epochs to train the model for.\n",
        "* per_device_train_batch_size: The number of samples in each batch on each device.\n",
        "* gradient_accumulation_steps: The number of batches to accumulate gradients before updating the model parameters.\n",
        "* optim: The optimizer to use for training the model.\n",
        "* save_steps: The number of steps after which to save a checkpoint.\n",
        "* logging_steps: The number of steps after which to log the training metrics.\n",
        "* learning_rate: The learning rate for the optimizer.\n",
        "* weight_decay: The weight decay parameter for the optimizer.\n",
        "* fp16: Whether to use 16-bit floating-point precision.\n",
        "* bf16: Whether to use BFloat16 precision.\n",
        "* max_grad_norm: The maximum gradient norm.\n",
        "* max_steps: The maximum number of steps to train the model for.\n",
        "* warmup_ratio: The proportion of the training steps to use for warming up the learning rate.\n",
        "* group_by_length: Whether to group the training samples by length.\n",
        "* lr_scheduler_type: The type of learning rate scheduler to use.\n",
        "* report_to: The tools to report the training metrics to.\n",
        "* evaluation_strategy: The strategy for evaluating the model during training.\n",
        "\n",
        "SFTTrainer:\n",
        "\n",
        "The SFTTrainer is a custom trainer class from the TRL library. It is used to train large language models (also using the PEFT method).\n",
        "\n",
        "The SFTTrainer object is initialized with the following arguments:\n",
        "\n",
        "* model: The model to be trained.\n",
        "* train_dataset: The training dataset.\n",
        "* eval_dataset: The evaluation dataset.\n",
        "* peft_config: The PEFT configuration.\n",
        "* dataset_text_field: The name of the text field in the dataset.\n",
        "* tokenizer: The tokenizer to use.\n",
        "* args: The training arguments.\n",
        "* packing: Whether to pack the training samples.\n",
        "* max_seq_length: The maximum sequence length.\n",
        "\n",
        "Once the SFTTrainer object is initialized, it can be used to train the model by calling the train() method"
      ]
    },
    {
      "cell_type": "code",
      "source": [
        "import locale\n",
        "locale.getpreferredencoding = lambda: \"UTF-8\"\n",
        "!pip install aspose-words"
      ],
      "metadata": {
        "colab": {
          "base_uri": "https://localhost:8080/"
        },
        "id": "P16ci-j06DMd",
        "executionInfo": {
          "status": "ok",
          "timestamp": 1714646709514,
          "user_tz": -330,
          "elapsed": 12756,
          "user": {
            "displayName": "",
            "userId": ""
          }
        },
        "outputId": "cf4bf4aa-6fac-40f5-f6a3-0eeefda867b1"
      },
      "id": "P16ci-j06DMd",
      "execution_count": null,
      "outputs": [
        {
          "output_type": "stream",
          "name": "stdout",
          "text": [
            "Collecting aspose-words\n",
            "  Downloading aspose_words-24.4.0-py3-none-manylinux1_x86_64.whl (79.7 MB)\n",
            "\u001b[2K     \u001b[90m━━━━━━━━━━━━━━━━━━━━━━━━━━━━━━━━━━━━━━━━\u001b[0m \u001b[32m79.7/79.7 MB\u001b[0m \u001b[31m11.7 MB/s\u001b[0m eta \u001b[36m0:00:00\u001b[0m\n",
            "\u001b[?25hInstalling collected packages: aspose-words\n",
            "Successfully installed aspose-words-24.4.0\n"
          ]
        }
      ]
    },
    {
      "cell_type": "code",
      "source": [
        "!pip install peft==0.5.0"
      ],
      "metadata": {
        "colab": {
          "base_uri": "https://localhost:8080/",
          "height": 985
        },
        "id": "73NODIu29IIQ",
        "executionInfo": {
          "status": "ok",
          "timestamp": 1714647531631,
          "user_tz": -330,
          "elapsed": 10199,
          "user": {
            "displayName": "",
            "userId": ""
          }
        },
        "outputId": "bc87025e-de06-42f7-952b-18726ac37f8e"
      },
      "id": "73NODIu29IIQ",
      "execution_count": null,
      "outputs": [
        {
          "output_type": "stream",
          "name": "stdout",
          "text": [
            "Collecting peft==0.5.0\n",
            "  Using cached peft-0.5.0-py3-none-any.whl (85 kB)\n",
            "Requirement already satisfied: numpy>=1.17 in /usr/local/lib/python3.10/dist-packages (from peft==0.5.0) (1.25.2)\n",
            "Requirement already satisfied: packaging>=20.0 in /usr/local/lib/python3.10/dist-packages (from peft==0.5.0) (24.0)\n",
            "Requirement already satisfied: psutil in /usr/local/lib/python3.10/dist-packages (from peft==0.5.0) (5.9.5)\n",
            "Requirement already satisfied: pyyaml in /usr/local/lib/python3.10/dist-packages (from peft==0.5.0) (6.0.1)\n",
            "Requirement already satisfied: torch>=1.13.0 in /usr/local/lib/python3.10/dist-packages (from peft==0.5.0) (2.1.2)\n",
            "Requirement already satisfied: transformers in /usr/local/lib/python3.10/dist-packages (from peft==0.5.0) (4.36.2)\n",
            "Requirement already satisfied: tqdm in /usr/local/lib/python3.10/dist-packages (from peft==0.5.0) (4.66.2)\n",
            "Requirement already satisfied: accelerate in /usr/local/lib/python3.10/dist-packages (from peft==0.5.0) (0.26.1)\n",
            "Requirement already satisfied: safetensors in /usr/local/lib/python3.10/dist-packages (from peft==0.5.0) (0.4.3)\n",
            "Requirement already satisfied: filelock in /usr/local/lib/python3.10/dist-packages (from torch>=1.13.0->peft==0.5.0) (3.13.4)\n",
            "Requirement already satisfied: typing-extensions in /usr/local/lib/python3.10/dist-packages (from torch>=1.13.0->peft==0.5.0) (4.11.0)\n",
            "Requirement already satisfied: sympy in /usr/local/lib/python3.10/dist-packages (from torch>=1.13.0->peft==0.5.0) (1.12)\n",
            "Requirement already satisfied: networkx in /usr/local/lib/python3.10/dist-packages (from torch>=1.13.0->peft==0.5.0) (3.3)\n",
            "Requirement already satisfied: jinja2 in /usr/local/lib/python3.10/dist-packages (from torch>=1.13.0->peft==0.5.0) (3.1.3)\n",
            "Requirement already satisfied: fsspec in /usr/local/lib/python3.10/dist-packages (from torch>=1.13.0->peft==0.5.0) (2023.6.0)\n",
            "Requirement already satisfied: nvidia-cuda-nvrtc-cu12==12.1.105 in /usr/local/lib/python3.10/dist-packages (from torch>=1.13.0->peft==0.5.0) (12.1.105)\n",
            "Requirement already satisfied: nvidia-cuda-runtime-cu12==12.1.105 in /usr/local/lib/python3.10/dist-packages (from torch>=1.13.0->peft==0.5.0) (12.1.105)\n",
            "Requirement already satisfied: nvidia-cuda-cupti-cu12==12.1.105 in /usr/local/lib/python3.10/dist-packages (from torch>=1.13.0->peft==0.5.0) (12.1.105)\n",
            "Requirement already satisfied: nvidia-cudnn-cu12==8.9.2.26 in /usr/local/lib/python3.10/dist-packages (from torch>=1.13.0->peft==0.5.0) (8.9.2.26)\n",
            "Requirement already satisfied: nvidia-cublas-cu12==12.1.3.1 in /usr/local/lib/python3.10/dist-packages (from torch>=1.13.0->peft==0.5.0) (12.1.3.1)\n",
            "Requirement already satisfied: nvidia-cufft-cu12==11.0.2.54 in /usr/local/lib/python3.10/dist-packages (from torch>=1.13.0->peft==0.5.0) (11.0.2.54)\n",
            "Requirement already satisfied: nvidia-curand-cu12==10.3.2.106 in /usr/local/lib/python3.10/dist-packages (from torch>=1.13.0->peft==0.5.0) (10.3.2.106)\n",
            "Requirement already satisfied: nvidia-cusolver-cu12==11.4.5.107 in /usr/local/lib/python3.10/dist-packages (from torch>=1.13.0->peft==0.5.0) (11.4.5.107)\n",
            "Requirement already satisfied: nvidia-cusparse-cu12==12.1.0.106 in /usr/local/lib/python3.10/dist-packages (from torch>=1.13.0->peft==0.5.0) (12.1.0.106)\n",
            "Requirement already satisfied: nvidia-nccl-cu12==2.18.1 in /usr/local/lib/python3.10/dist-packages (from torch>=1.13.0->peft==0.5.0) (2.18.1)\n",
            "Requirement already satisfied: nvidia-nvtx-cu12==12.1.105 in /usr/local/lib/python3.10/dist-packages (from torch>=1.13.0->peft==0.5.0) (12.1.105)\n",
            "Requirement already satisfied: triton==2.1.0 in /usr/local/lib/python3.10/dist-packages (from torch>=1.13.0->peft==0.5.0) (2.1.0)\n",
            "Requirement already satisfied: nvidia-nvjitlink-cu12 in /usr/local/lib/python3.10/dist-packages (from nvidia-cusolver-cu12==11.4.5.107->torch>=1.13.0->peft==0.5.0) (12.4.127)\n",
            "Requirement already satisfied: huggingface-hub in /usr/local/lib/python3.10/dist-packages (from accelerate->peft==0.5.0) (0.22.2)\n",
            "Requirement already satisfied: regex!=2019.12.17 in /usr/local/lib/python3.10/dist-packages (from transformers->peft==0.5.0) (2023.12.25)\n",
            "Requirement already satisfied: requests in /usr/local/lib/python3.10/dist-packages (from transformers->peft==0.5.0) (2.31.0)\n",
            "Requirement already satisfied: tokenizers<0.19,>=0.14 in /usr/local/lib/python3.10/dist-packages (from transformers->peft==0.5.0) (0.15.2)\n",
            "Requirement already satisfied: MarkupSafe>=2.0 in /usr/local/lib/python3.10/dist-packages (from jinja2->torch>=1.13.0->peft==0.5.0) (2.1.5)\n",
            "Requirement already satisfied: charset-normalizer<4,>=2 in /usr/local/lib/python3.10/dist-packages (from requests->transformers->peft==0.5.0) (3.3.2)\n",
            "Requirement already satisfied: idna<4,>=2.5 in /usr/local/lib/python3.10/dist-packages (from requests->transformers->peft==0.5.0) (3.7)\n",
            "Requirement already satisfied: urllib3<3,>=1.21.1 in /usr/local/lib/python3.10/dist-packages (from requests->transformers->peft==0.5.0) (2.0.7)\n",
            "Requirement already satisfied: certifi>=2017.4.17 in /usr/local/lib/python3.10/dist-packages (from requests->transformers->peft==0.5.0) (2024.2.2)\n",
            "Requirement already satisfied: mpmath>=0.19 in /usr/local/lib/python3.10/dist-packages (from sympy->torch>=1.13.0->peft==0.5.0) (1.3.0)\n",
            "Installing collected packages: peft\n",
            "  Attempting uninstall: peft\n",
            "    Found existing installation: peft 0.7.2.dev0\n",
            "    Uninstalling peft-0.7.2.dev0:\n",
            "      Successfully uninstalled peft-0.7.2.dev0\n",
            "Successfully installed peft-0.5.0\n"
          ]
        },
        {
          "output_type": "display_data",
          "data": {
            "application/vnd.colab-display-data+json": {
              "pip_warning": {
                "packages": [
                  "peft"
                ]
              },
              "id": "c1b2ccd73498405f88ea30347f43069f"
            }
          },
          "metadata": {}
        }
      ]
    },
    {
      "cell_type": "code",
      "execution_count": 15,
      "id": "d24d5ae5",
      "metadata": {
        "execution": {
          "iopub.execute_input": "2024-03-23T21:50:03.018412Z",
          "iopub.status.busy": "2024-03-23T21:50:03.017404Z",
          "iopub.status.idle": "2024-03-23T21:50:06.301140Z",
          "shell.execute_reply": "2024-03-23T21:50:06.300144Z"
        },
        "papermill": {
          "duration": 3.380231,
          "end_time": "2024-03-23T21:50:06.303569",
          "exception": false,
          "start_time": "2024-03-23T21:50:02.923338",
          "status": "completed"
        },
        "tags": [],
        "colab": {
          "base_uri": "https://localhost:8080/",
          "height": 81,
          "referenced_widgets": [
            "51deb284fd124ec58e139d81b9b5c1b7",
            "11cf8274e1404543b8636d1499cf7301",
            "5670a7c4f8e04842a6dd45ff26e2147e",
            "29b53b556a2647f780a9d0b5493c69ad",
            "ca345f7edea14031a23a4641427a1441",
            "f8d76e1a41f944c6a15674a65b4f33f9",
            "fb3279bc9bf34561876b751dbb8cd840",
            "d905e9d645924266b58c0035ce32c70c",
            "1fb99df9146448b1a87d56789d846303",
            "584a5a11c42c49d481359b123044a14e",
            "54bf0e9fb4a94f949525685f912eb66f",
            "0a06ff5bd35b450da08d5e27f4fe5926",
            "42b210f15d1f480a8bb46aed6af9a795",
            "3e8b330053e943498584f12afb24b6e4",
            "cef52cc5bc0e474abd7ef66c861d926a",
            "2b2ee3f6c84c42b3b575549c6685e989",
            "9ee88d2dcd454e27ac44e2e9a93cbf74",
            "600c5c4cf32445e09d7f4162c88919bb",
            "49a3d5240eed49b0bd2ca3c1ccfd551a",
            "95b00f56396d4b109dcf817f57139e59",
            "6b689c4c50ec490fb258f8808fc909a6",
            "f42bfeaa98804f0fa16c882a1a607d3b"
          ]
        },
        "id": "d24d5ae5",
        "outputId": "56e3813b-a32d-4977-c694-a8e43688792a",
        "executionInfo": {
          "status": "ok",
          "timestamp": 1714652020516,
          "user_tz": -330,
          "elapsed": 2917,
          "user": {
            "displayName": "",
            "userId": ""
          }
        }
      },
      "outputs": [
        {
          "output_type": "display_data",
          "data": {
            "text/plain": [
              "Map:   0%|          | 0/900 [00:00<?, ? examples/s]"
            ],
            "application/vnd.jupyter.widget-view+json": {
              "version_major": 2,
              "version_minor": 0,
              "model_id": "51deb284fd124ec58e139d81b9b5c1b7"
            }
          },
          "metadata": {}
        },
        {
          "output_type": "display_data",
          "data": {
            "text/plain": [
              "Map:   0%|          | 0/150 [00:00<?, ? examples/s]"
            ],
            "application/vnd.jupyter.widget-view+json": {
              "version_major": 2,
              "version_minor": 0,
              "model_id": "0a06ff5bd35b450da08d5e27f4fe5926"
            }
          },
          "metadata": {}
        }
      ],
      "source": [
        "output_dir=\"/content/trained_weigths\"\n",
        "\n",
        "peft_config = LoraConfig(\n",
        "        lora_alpha=16,\n",
        "        lora_dropout=0.1,\n",
        "        r=64,\n",
        "        bias=\"none\",\n",
        "        target_modules=\"all-linear\",\n",
        "        task_type=\"CAUSAL_LM\",\n",
        ")\n",
        "\n",
        "training_arguments = TrainingArguments(\n",
        "    output_dir=output_dir,                    # directory to save and repository id\n",
        "    num_train_epochs=3,                       # number of training epochs\n",
        "    per_device_train_batch_size=1,            # batch size per device during training\n",
        "    gradient_accumulation_steps=8,            # number of steps before performing a backward/update pass\n",
        "    gradient_checkpointing=True,              # use gradient checkpointing to save memory\n",
        "    optim=\"paged_adamw_32bit\",\n",
        "    save_steps=0,\n",
        "    logging_steps=25,                         # log every 10 steps\n",
        "    learning_rate=2e-4,                       # learning rate, based on QLoRA paper\n",
        "    weight_decay=0.001,\n",
        "    fp16=True,\n",
        "    bf16=False,\n",
        "    max_grad_norm=0.3,                        # max gradient norm based on QLoRA paper\n",
        "    max_steps=-1,\n",
        "    warmup_ratio=0.03,                        # warmup ratio based on QLoRA paper\n",
        "    group_by_length=True,\n",
        "    lr_scheduler_type=\"cosine\",               # use cosine learning rate scheduler\n",
        "    report_to=\"tensorboard\",                  # report metrics to tensorboard\n",
        "    evaluation_strategy=\"epoch\"               # save checkpoint every epoch\n",
        ")\n",
        "\n",
        "trainer = SFTTrainer(\n",
        "    model=model,\n",
        "    args=training_arguments,\n",
        "    train_dataset=train_data,\n",
        "    eval_dataset=eval_data,\n",
        "    peft_config=peft_config,\n",
        "    dataset_text_field=\"text\",\n",
        "    tokenizer=tokenizer,\n",
        "    max_seq_length=1024,\n",
        "    packing=False,\n",
        "    dataset_kwargs={\n",
        "        \"add_special_tokens\": False,\n",
        "        \"append_concat_token\": False,\n",
        "    }\n",
        ")"
      ]
    },
    {
      "cell_type": "markdown",
      "id": "5aa1fb88",
      "metadata": {
        "papermill": {
          "duration": 0.088368,
          "end_time": "2024-03-23T21:50:06.480274",
          "exception": false,
          "start_time": "2024-03-23T21:50:06.391906",
          "status": "completed"
        },
        "tags": [],
        "id": "5aa1fb88"
      },
      "source": [
        "The following code will train the model using the trainer.train() method and then save the trained model to the trained-model directory. Using The standard GPU P100 offered by Kaggle, the training should be quite fast."
      ]
    },
    {
      "cell_type": "code",
      "execution_count": null,
      "id": "acdd4145",
      "metadata": {
        "execution": {
          "iopub.execute_input": "2024-03-23T21:50:06.653614Z",
          "iopub.status.busy": "2024-03-23T21:50:06.652961Z",
          "iopub.status.idle": "2024-03-23T22:51:48.225855Z",
          "shell.execute_reply": "2024-03-23T22:51:48.224730Z"
        },
        "papermill": {
          "duration": 3701.661113,
          "end_time": "2024-03-23T22:51:48.227921",
          "exception": false,
          "start_time": "2024-03-23T21:50:06.566808",
          "status": "completed"
        },
        "tags": [],
        "id": "acdd4145",
        "colab": {
          "base_uri": "https://localhost:8080/",
          "height": 145
        },
        "outputId": "14201bd6-9ff5-4bbd-c3eb-59cb94aadb3d"
      },
      "outputs": [
        {
          "output_type": "stream",
          "name": "stderr",
          "text": [
            "You're using a LlamaTokenizerFast tokenizer. Please note that with a fast tokenizer, using the `__call__` method is faster than using a method to encode the text followed by a call to the `pad` method to get a padded encoding.\n"
          ]
        },
        {
          "output_type": "display_data",
          "data": {
            "text/plain": [
              "<IPython.core.display.HTML object>"
            ],
            "text/html": [
              "\n",
              "    <div>\n",
              "      \n",
              "      <progress value='135' max='336' style='width:300px; height:20px; vertical-align: middle;'></progress>\n",
              "      [135/336 11:01 < 16:39, 0.20 it/s, Epoch 1.19/3]\n",
              "    </div>\n",
              "    <table border=\"1\" class=\"dataframe\">\n",
              "  <thead>\n",
              " <tr style=\"text-align: left;\">\n",
              "      <th>Epoch</th>\n",
              "      <th>Training Loss</th>\n",
              "      <th>Validation Loss</th>\n",
              "    </tr>\n",
              "  </thead>\n",
              "  <tbody>\n",
              "    <tr>\n",
              "      <td>0</td>\n",
              "      <td>0.845900</td>\n",
              "      <td>0.746846</td>\n",
              "    </tr>\n",
              "  </tbody>\n",
              "</table><p>"
            ]
          },
          "metadata": {}
        }
      ],
      "source": [
        "# Train model\n",
        "trainer.train()"
      ]
    },
    {
      "cell_type": "markdown",
      "id": "322ad3f1",
      "metadata": {
        "papermill": {
          "duration": 0.084282,
          "end_time": "2024-03-23T22:51:48.397401",
          "exception": false,
          "start_time": "2024-03-23T22:51:48.313119",
          "status": "completed"
        },
        "tags": [],
        "id": "322ad3f1"
      },
      "source": [
        "The model and the tokenizer are saved to disk for later usage."
      ]
    },
    {
      "cell_type": "code",
      "execution_count": null,
      "id": "81ef5b4b",
      "metadata": {
        "execution": {
          "iopub.execute_input": "2024-03-23T22:51:48.568321Z",
          "iopub.status.busy": "2024-03-23T22:51:48.567423Z",
          "iopub.status.idle": "2024-03-23T22:51:52.828909Z",
          "shell.execute_reply": "2024-03-23T22:51:52.827910Z"
        },
        "papermill": {
          "duration": 4.350112,
          "end_time": "2024-03-23T22:51:52.830992",
          "exception": false,
          "start_time": "2024-03-23T22:51:48.480880",
          "status": "completed"
        },
        "tags": [],
        "id": "81ef5b4b"
      },
      "outputs": [],
      "source": [
        "# Save trained model and tokenizer\n",
        "trainer.save_model()\n",
        "tokenizer.save_pretrained(output_dir)"
      ]
    },
    {
      "cell_type": "markdown",
      "id": "59a19382",
      "metadata": {
        "papermill": {
          "duration": 0.094868,
          "end_time": "2024-03-23T22:51:53.012107",
          "exception": false,
          "start_time": "2024-03-23T22:51:52.917239",
          "status": "completed"
        },
        "tags": [],
        "id": "59a19382"
      },
      "source": [
        "Afterwards, loading the TensorBoard extension and start TensorBoard, pointing to the logs/runs directory, which is assumed to contain the training logs and checkpoints for your model, will allow you to understand how the models fits during the training."
      ]
    },
    {
      "cell_type": "code",
      "execution_count": null,
      "id": "36e8a95f",
      "metadata": {
        "execution": {
          "iopub.execute_input": "2024-03-23T22:51:53.185764Z",
          "iopub.status.busy": "2024-03-23T22:51:53.184978Z",
          "iopub.status.idle": "2024-03-23T22:52:00.224819Z",
          "shell.execute_reply": "2024-03-23T22:52:00.223846Z"
        },
        "papermill": {
          "duration": 7.130873,
          "end_time": "2024-03-23T22:52:00.227515",
          "exception": false,
          "start_time": "2024-03-23T22:51:53.096642",
          "status": "completed"
        },
        "tags": [],
        "id": "36e8a95f"
      },
      "outputs": [],
      "source": [
        "%load_ext tensorboard\n",
        "%tensorboard --logdir logs/runs"
      ]
    },
    {
      "cell_type": "markdown",
      "id": "80c31b3b",
      "metadata": {
        "papermill": {
          "duration": 0.086884,
          "end_time": "2024-03-23T22:52:00.400521",
          "exception": false,
          "start_time": "2024-03-23T22:52:00.313637",
          "status": "completed"
        },
        "tags": [],
        "id": "80c31b3b"
      },
      "source": [
        "## Saving model to disk for later usage"
      ]
    },
    {
      "cell_type": "markdown",
      "id": "6d4ec023",
      "metadata": {
        "papermill": {
          "duration": 0.084423,
          "end_time": "2024-03-23T22:52:00.569550",
          "exception": false,
          "start_time": "2024-03-23T22:52:00.485127",
          "status": "completed"
        },
        "tags": [],
        "id": "6d4ec023"
      },
      "source": [
        "At this point, in order to demonstrate how to re-utilize the model, we reload it from the disk and merge it with the original LLama model.\n",
        "\n",
        "In fact, when working with QLoRA, we exclusively train adapters instead of the entire model. So, when you save the model during training, you're only preserving the adapter weights, not the entire model. If you want to save the full model for easier use with Text Generation Inference, you can merge the adapter weights into the model weights using the merge_and_unload method. Then, you can save the model using the save_pretrained method. This will create a default model that's ready for inference tasks."
      ]
    },
    {
      "cell_type": "markdown",
      "id": "7dce101c",
      "metadata": {
        "papermill": {
          "duration": 0.085612,
          "end_time": "2024-03-23T22:52:00.741188",
          "exception": false,
          "start_time": "2024-03-23T22:52:00.655576",
          "status": "completed"
        },
        "tags": [],
        "id": "7dce101c"
      },
      "source": [
        "Before proceeding, we first remove the previous model and clean up the memory from various objects we won't use anymore."
      ]
    },
    {
      "cell_type": "code",
      "execution_count": null,
      "id": "5dec71e8",
      "metadata": {
        "execution": {
          "iopub.execute_input": "2024-03-23T22:52:00.914356Z",
          "iopub.status.busy": "2024-03-23T22:52:00.913973Z",
          "iopub.status.idle": "2024-03-23T22:52:00.920778Z",
          "shell.execute_reply": "2024-03-23T22:52:00.919578Z"
        },
        "papermill": {
          "duration": 0.093879,
          "end_time": "2024-03-23T22:52:00.922760",
          "exception": false,
          "start_time": "2024-03-23T22:52:00.828881",
          "status": "completed"
        },
        "tags": [],
        "id": "5dec71e8"
      },
      "outputs": [],
      "source": [
        "import gc\n",
        "\n",
        "del [model, tokenizer, peft_config, trainer, train_data, eval_data, bnb_config, training_arguments]\n",
        "del [df, X_train, X_eval]\n",
        "del [TrainingArguments, SFTTrainer, LoraConfig, BitsAndBytesConfig]"
      ]
    },
    {
      "cell_type": "code",
      "execution_count": null,
      "id": "af584910",
      "metadata": {
        "execution": {
          "iopub.execute_input": "2024-03-23T22:52:01.099386Z",
          "iopub.status.busy": "2024-03-23T22:52:01.098646Z",
          "iopub.status.idle": "2024-03-23T22:52:35.001444Z",
          "shell.execute_reply": "2024-03-23T22:52:34.999896Z"
        },
        "papermill": {
          "duration": 33.994457,
          "end_time": "2024-03-23T22:52:35.004796",
          "exception": false,
          "start_time": "2024-03-23T22:52:01.010339",
          "status": "completed"
        },
        "tags": [],
        "id": "af584910"
      },
      "outputs": [],
      "source": [
        "for _ in range(100):\n",
        "    torch.cuda.empty_cache()\n",
        "    gc.collect()"
      ]
    },
    {
      "cell_type": "code",
      "execution_count": null,
      "id": "b37cd3f1",
      "metadata": {
        "execution": {
          "iopub.execute_input": "2024-03-23T22:52:35.193006Z",
          "iopub.status.busy": "2024-03-23T22:52:35.192612Z",
          "iopub.status.idle": "2024-03-23T22:52:36.282039Z",
          "shell.execute_reply": "2024-03-23T22:52:36.281004Z"
        },
        "papermill": {
          "duration": 1.185121,
          "end_time": "2024-03-23T22:52:36.284358",
          "exception": false,
          "start_time": "2024-03-23T22:52:35.099237",
          "status": "completed"
        },
        "tags": [],
        "id": "b37cd3f1",
        "outputId": "0f092e6f-a139-494b-8e71-84e5ee6ea576"
      },
      "outputs": [
        {
          "name": "stdout",
          "output_type": "stream",
          "text": [
            "Sat Mar 23 22:52:36 2024       \r\n",
            "+---------------------------------------------------------------------------------------+\r\n",
            "| NVIDIA-SMI 535.129.03             Driver Version: 535.129.03   CUDA Version: 12.2     |\r\n",
            "|-----------------------------------------+----------------------+----------------------+\r\n",
            "| GPU  Name                 Persistence-M | Bus-Id        Disp.A | Volatile Uncorr. ECC |\r\n",
            "| Fan  Temp   Perf          Pwr:Usage/Cap |         Memory-Usage | GPU-Util  Compute M. |\r\n",
            "|                                         |                      |               MIG M. |\r\n",
            "|=========================================+======================+======================|\r\n",
            "|   0  Tesla P100-PCIE-16GB           Off | 00000000:00:04.0 Off |                    0 |\r\n",
            "| N/A   57C    P0              41W / 250W |   1926MiB / 16384MiB |      0%      Default |\r\n",
            "|                                         |                      |                  N/A |\r\n",
            "+-----------------------------------------+----------------------+----------------------+\r\n",
            "                                                                                         \r\n",
            "+---------------------------------------------------------------------------------------+\r\n",
            "| Processes:                                                                            |\r\n",
            "|  GPU   GI   CI        PID   Type   Process name                            GPU Memory |\r\n",
            "|        ID   ID                                                             Usage      |\r\n",
            "|=======================================================================================|\r\n",
            "+---------------------------------------------------------------------------------------+\r\n"
          ]
        }
      ],
      "source": [
        "!nvidia-smi"
      ]
    },
    {
      "cell_type": "markdown",
      "id": "addb49a9",
      "metadata": {
        "papermill": {
          "duration": 0.08333,
          "end_time": "2024-03-23T22:52:36.450827",
          "exception": false,
          "start_time": "2024-03-23T22:52:36.367497",
          "status": "completed"
        },
        "tags": [],
        "id": "addb49a9"
      },
      "source": [
        "Then we can proceed to merging the weights and we will be using the merged model for our testing purposes."
      ]
    },
    {
      "cell_type": "code",
      "execution_count": null,
      "id": "c08c61c2",
      "metadata": {
        "execution": {
          "iopub.execute_input": "2024-03-23T22:52:36.619455Z",
          "iopub.status.busy": "2024-03-23T22:52:36.618972Z",
          "iopub.status.idle": "2024-03-23T22:53:37.749979Z",
          "shell.execute_reply": "2024-03-23T22:53:37.748167Z"
        },
        "papermill": {
          "duration": 62.229782,
          "end_time": "2024-03-23T22:53:38.763264",
          "exception": false,
          "start_time": "2024-03-23T22:52:36.533482",
          "status": "completed"
        },
        "tags": [],
        "colab": {
          "referenced_widgets": [
            "d867f18be93b4f0996815a3b04c9320c"
          ]
        },
        "id": "c08c61c2",
        "outputId": "63d0981e-9ef9-4c78-e1b0-ff4e22679d43"
      },
      "outputs": [
        {
          "data": {
            "application/vnd.jupyter.widget-view+json": {
              "model_id": "d867f18be93b4f0996815a3b04c9320c",
              "version_major": 2,
              "version_minor": 0
            },
            "text/plain": [
              "Loading checkpoint shards:   0%|          | 0/2 [00:00<?, ?it/s]"
            ]
          },
          "metadata": {},
          "output_type": "display_data"
        },
        {
          "name": "stderr",
          "output_type": "stream",
          "text": [
            "Special tokens have been added in the vocabulary, make sure the associated word embeddings are fine-tuned or trained.\n"
          ]
        },
        {
          "data": {
            "text/plain": [
              "('./merged_model/tokenizer_config.json',\n",
              " './merged_model/special_tokens_map.json',\n",
              " './merged_model/tokenizer.model',\n",
              " './merged_model/added_tokens.json',\n",
              " './merged_model/tokenizer.json')"
            ]
          },
          "execution_count": 22,
          "metadata": {},
          "output_type": "execute_result"
        }
      ],
      "source": [
        "from peft import AutoPeftModelForCausalLM\n",
        "\n",
        "finetuned_model = \"./trained_weigths/\"\n",
        "compute_dtype = getattr(torch, \"float16\")\n",
        "tokenizer = AutoTokenizer.from_pretrained(\"/kaggle/input/llama-2/pytorch/7b-hf/1\")\n",
        "\n",
        "model = AutoPeftModelForCausalLM.from_pretrained(\n",
        "     finetuned_model,\n",
        "     torch_dtype=compute_dtype,\n",
        "     return_dict=False,\n",
        "     low_cpu_mem_usage=True,\n",
        "     device_map=device,\n",
        ")\n",
        "\n",
        "merged_model = model.merge_and_unload()\n",
        "merged_model.save_pretrained(\"./merged_model\",safe_serialization=True, max_shard_size=\"2GB\")\n",
        "tokenizer.save_pretrained(\"./merged_model\")"
      ]
    },
    {
      "cell_type": "markdown",
      "id": "e6a81a0a",
      "metadata": {
        "papermill": {
          "duration": 0.123856,
          "end_time": "2024-03-23T22:53:39.048576",
          "exception": false,
          "start_time": "2024-03-23T22:53:38.924720",
          "status": "completed"
        },
        "tags": [],
        "id": "e6a81a0a"
      },
      "source": [
        "## Testing"
      ]
    },
    {
      "cell_type": "markdown",
      "id": "8454cc77",
      "metadata": {
        "papermill": {
          "duration": 0.1169,
          "end_time": "2024-03-23T22:53:39.253635",
          "exception": false,
          "start_time": "2024-03-23T22:53:39.136735",
          "status": "completed"
        },
        "tags": [],
        "id": "8454cc77"
      },
      "source": [
        "The following code will first predict the sentiment labels for the test set using the predict() function. Then, it will evaluate the model's performance on the test set using the evaluate() function. The result now should be impressive with an overall accuracy of over 0.8 and high accuracy, precision and recall for the single sentiment labels. The prediction of the neutral label can still be improved, yet it is impressive how much could be done with little data and some fine-tuning."
      ]
    },
    {
      "cell_type": "code",
      "execution_count": null,
      "id": "c5cb7962",
      "metadata": {
        "execution": {
          "iopub.execute_input": "2024-03-23T22:53:39.442229Z",
          "iopub.status.busy": "2024-03-23T22:53:39.441832Z",
          "iopub.status.idle": "2024-03-23T22:57:30.650895Z",
          "shell.execute_reply": "2024-03-23T22:57:30.649704Z"
        },
        "papermill": {
          "duration": 231.306164,
          "end_time": "2024-03-23T22:57:30.653590",
          "exception": false,
          "start_time": "2024-03-23T22:53:39.347426",
          "status": "completed"
        },
        "tags": [],
        "id": "c5cb7962",
        "outputId": "6040fda9-0931-409e-a026-d960e9a3aeb1"
      },
      "outputs": [
        {
          "name": "stderr",
          "output_type": "stream",
          "text": [
            "100%|██████████| 900/900 [03:51<00:00,  3.89it/s]"
          ]
        },
        {
          "name": "stdout",
          "output_type": "stream",
          "text": [
            "Accuracy: 0.847\n",
            "Accuracy for label 0: 0.890\n",
            "Accuracy for label 1: 0.870\n",
            "Accuracy for label 2: 0.780\n",
            "\n",
            "Classification Report:\n",
            "              precision    recall  f1-score   support\n",
            "\n",
            "           0       0.96      0.89      0.92       300\n",
            "           1       0.73      0.87      0.79       300\n",
            "           2       0.88      0.78      0.83       300\n",
            "\n",
            "    accuracy                           0.85       900\n",
            "   macro avg       0.86      0.85      0.85       900\n",
            "weighted avg       0.86      0.85      0.85       900\n",
            "\n",
            "\n",
            "Confusion Matrix:\n",
            "[[267  31   2]\n",
            " [ 10 261  29]\n",
            " [  1  65 234]]\n"
          ]
        },
        {
          "name": "stderr",
          "output_type": "stream",
          "text": [
            "\n"
          ]
        }
      ],
      "source": [
        "y_pred = predict(test, merged_model, tokenizer)\n",
        "evaluate(y_true, y_pred)"
      ]
    },
    {
      "cell_type": "markdown",
      "id": "272ca93d",
      "metadata": {
        "papermill": {
          "duration": 0.169741,
          "end_time": "2024-03-23T22:57:31.070414",
          "exception": false,
          "start_time": "2024-03-23T22:57:30.900673",
          "status": "completed"
        },
        "tags": [],
        "id": "272ca93d"
      },
      "source": [
        "The following code will create a Pandas DataFrame called evaluation containing the text, true labels, and predicted labels from the test set. This is expectially useful for understanding the errors that the fine-tuned model makes, and gettting insights on how to improve the prompt."
      ]
    },
    {
      "cell_type": "code",
      "execution_count": null,
      "id": "71496408",
      "metadata": {
        "execution": {
          "iopub.execute_input": "2024-03-23T22:57:31.396162Z",
          "iopub.status.busy": "2024-03-23T22:57:31.395775Z",
          "iopub.status.idle": "2024-03-23T22:57:31.432317Z",
          "shell.execute_reply": "2024-03-23T22:57:31.431335Z"
        },
        "papermill": {
          "duration": 0.205408,
          "end_time": "2024-03-23T22:57:31.434944",
          "exception": false,
          "start_time": "2024-03-23T22:57:31.229536",
          "status": "completed"
        },
        "tags": [],
        "id": "71496408"
      },
      "outputs": [],
      "source": [
        "evaluation = pd.DataFrame({'text': X_test[\"text\"],\n",
        "                           'y_true':y_true,\n",
        "                           'y_pred': y_pred},\n",
        "                         )\n",
        "evaluation.to_csv(\"test_predictions.csv\", index=False)"
      ]
    },
    {
      "cell_type": "markdown",
      "id": "88218eed",
      "metadata": {
        "papermill": {
          "duration": 0.162634,
          "end_time": "2024-03-23T22:57:31.759062",
          "exception": false,
          "start_time": "2024-03-23T22:57:31.596428",
          "status": "completed"
        },
        "tags": [],
        "id": "88218eed"
      },
      "source": [
        "The evaluation results are indeed good when compared to simpler benchmarks such as a CONV1D + bidirectional LSTM based model () such as: https://www.kaggle.com/code/lucamassaron/lstm-baseline-for-sentiment-analysis"
      ]
    },
    {
      "cell_type": "markdown",
      "id": "30de805a",
      "metadata": {
        "papermill": {
          "duration": 0.168583,
          "end_time": "2024-03-23T22:57:32.091749",
          "exception": false,
          "start_time": "2024-03-23T22:57:31.923166",
          "status": "completed"
        },
        "tags": [],
        "id": "30de805a"
      },
      "source": [
        "Here are the results of the baseline model:\n",
        "\n",
        "Accuracy: 0.623\n",
        "Accuracy for label 0: 0.620\n",
        "Accuracy for label 1: 0.590\n",
        "Accuracy for label 2: 0.660\n",
        "\n",
        "Classification Report:\n",
        "              precision    recall  f1-score   support\n",
        "\n",
        "           0       0.79      0.62      0.69       300\n",
        "           1       0.61      0.59      0.60       300\n",
        "           2       0.53      0.66      0.59       300\n",
        "\n",
        "    accuracy                           0.62       900\n",
        "   macro avg       0.64      0.62      0.63       900\n",
        "weighted avg       0.64      0.62      0.63       900\n",
        "\n",
        "\n",
        "Confusion Matrix:\n",
        "\n",
        "[[186  39  75]\\\n",
        " [ 23 177 100]\\\n",
        " [ 27  75 198]]\n"
      ]
    },
    {
      "cell_type": "markdown",
      "id": "08e74c60",
      "metadata": {
        "papermill": {
          "duration": 0.163103,
          "end_time": "2024-03-23T22:57:32.417949",
          "exception": false,
          "start_time": "2024-03-23T22:57:32.254846",
          "status": "completed"
        },
        "tags": [],
        "id": "08e74c60"
      },
      "source": [
        "With this testing, the fine-tuning of Llama 2 has reached its conclusion. Dont't forget to upvote if you find the notebook useful for your projects or work!"
      ]
    }
  ],
  "metadata": {
    "kaggle": {
      "accelerator": "gpu",
      "dataSources": [
        {
          "datasetId": 622510,
          "sourceId": 1192499,
          "sourceType": "datasetVersion"
        },
        {
          "modelInstanceId": 3090,
          "sourceId": 4295,
          "sourceType": "modelInstanceVersion"
        }
      ],
      "dockerImageVersionId": 30559,
      "isGpuEnabled": true,
      "isInternetEnabled": true,
      "language": "python",
      "sourceType": "notebook"
    },
    "kernelspec": {
      "display_name": "Python 3",
      "language": "python",
      "name": "python3"
    },
    "language_info": {
      "codemirror_mode": {
        "name": "ipython",
        "version": 3
      },
      "file_extension": ".py",
      "mimetype": "text/x-python",
      "name": "python",
      "nbconvert_exporter": "python",
      "pygments_lexer": "ipython3",
      "version": "3.10.12"
    },
    "papermill": {
      "default_parameters": {},
      "duration": 4849.495093,
      "end_time": "2024-03-23T22:57:35.441533",
      "environment_variables": {},
      "exception": null,
      "input_path": "__notebook__.ipynb",
      "output_path": "__notebook__.ipynb",
      "parameters": {},
      "start_time": "2024-03-23T21:36:45.946440",
      "version": "2.4.0"
    },
    "widgets": {
      "application/vnd.jupyter.widget-state+json": {
        "ef083149f12e4d78b7fda5320b5cd023": {
          "model_module": "@jupyter-widgets/controls",
          "model_name": "HBoxModel",
          "model_module_version": "1.5.0",
          "state": {
            "_dom_classes": [],
            "_model_module": "@jupyter-widgets/controls",
            "_model_module_version": "1.5.0",
            "_model_name": "HBoxModel",
            "_view_count": null,
            "_view_module": "@jupyter-widgets/controls",
            "_view_module_version": "1.5.0",
            "_view_name": "HBoxView",
            "box_style": "",
            "children": [
              "IPY_MODEL_8fac63a67b9d419b9186586c53d1af18",
              "IPY_MODEL_50d5f8beb78249bfa405005acffaffc8",
              "IPY_MODEL_cc31ed142ed2476ba392f3c9de59f03a"
            ],
            "layout": "IPY_MODEL_3379b8245ffd4c009c692c8024b205af"
          }
        },
        "8fac63a67b9d419b9186586c53d1af18": {
          "model_module": "@jupyter-widgets/controls",
          "model_name": "HTMLModel",
          "model_module_version": "1.5.0",
          "state": {
            "_dom_classes": [],
            "_model_module": "@jupyter-widgets/controls",
            "_model_module_version": "1.5.0",
            "_model_name": "HTMLModel",
            "_view_count": null,
            "_view_module": "@jupyter-widgets/controls",
            "_view_module_version": "1.5.0",
            "_view_name": "HTMLView",
            "description": "",
            "description_tooltip": null,
            "layout": "IPY_MODEL_ef206b0684564b8b8502e6e5e7f16a23",
            "placeholder": "​",
            "style": "IPY_MODEL_3cdc77760d2d4890ad6e9e6006facda9",
            "value": "Loading checkpoint shards: 100%"
          }
        },
        "50d5f8beb78249bfa405005acffaffc8": {
          "model_module": "@jupyter-widgets/controls",
          "model_name": "FloatProgressModel",
          "model_module_version": "1.5.0",
          "state": {
            "_dom_classes": [],
            "_model_module": "@jupyter-widgets/controls",
            "_model_module_version": "1.5.0",
            "_model_name": "FloatProgressModel",
            "_view_count": null,
            "_view_module": "@jupyter-widgets/controls",
            "_view_module_version": "1.5.0",
            "_view_name": "ProgressView",
            "bar_style": "success",
            "description": "",
            "description_tooltip": null,
            "layout": "IPY_MODEL_943daaa4315244968ecd7114e2f9310b",
            "max": 2,
            "min": 0,
            "orientation": "horizontal",
            "style": "IPY_MODEL_a37b253222504397860dedd64d47c803",
            "value": 2
          }
        },
        "cc31ed142ed2476ba392f3c9de59f03a": {
          "model_module": "@jupyter-widgets/controls",
          "model_name": "HTMLModel",
          "model_module_version": "1.5.0",
          "state": {
            "_dom_classes": [],
            "_model_module": "@jupyter-widgets/controls",
            "_model_module_version": "1.5.0",
            "_model_name": "HTMLModel",
            "_view_count": null,
            "_view_module": "@jupyter-widgets/controls",
            "_view_module_version": "1.5.0",
            "_view_name": "HTMLView",
            "description": "",
            "description_tooltip": null,
            "layout": "IPY_MODEL_96fc927e42044d018411aa17a874ed2f",
            "placeholder": "​",
            "style": "IPY_MODEL_a423f9af7ba649c9b274709e5b43f6c8",
            "value": " 2/2 [00:12&lt;00:00,  5.67s/it]"
          }
        },
        "3379b8245ffd4c009c692c8024b205af": {
          "model_module": "@jupyter-widgets/base",
          "model_name": "LayoutModel",
          "model_module_version": "1.2.0",
          "state": {
            "_model_module": "@jupyter-widgets/base",
            "_model_module_version": "1.2.0",
            "_model_name": "LayoutModel",
            "_view_count": null,
            "_view_module": "@jupyter-widgets/base",
            "_view_module_version": "1.2.0",
            "_view_name": "LayoutView",
            "align_content": null,
            "align_items": null,
            "align_self": null,
            "border": null,
            "bottom": null,
            "display": null,
            "flex": null,
            "flex_flow": null,
            "grid_area": null,
            "grid_auto_columns": null,
            "grid_auto_flow": null,
            "grid_auto_rows": null,
            "grid_column": null,
            "grid_gap": null,
            "grid_row": null,
            "grid_template_areas": null,
            "grid_template_columns": null,
            "grid_template_rows": null,
            "height": null,
            "justify_content": null,
            "justify_items": null,
            "left": null,
            "margin": null,
            "max_height": null,
            "max_width": null,
            "min_height": null,
            "min_width": null,
            "object_fit": null,
            "object_position": null,
            "order": null,
            "overflow": null,
            "overflow_x": null,
            "overflow_y": null,
            "padding": null,
            "right": null,
            "top": null,
            "visibility": null,
            "width": null
          }
        },
        "ef206b0684564b8b8502e6e5e7f16a23": {
          "model_module": "@jupyter-widgets/base",
          "model_name": "LayoutModel",
          "model_module_version": "1.2.0",
          "state": {
            "_model_module": "@jupyter-widgets/base",
            "_model_module_version": "1.2.0",
            "_model_name": "LayoutModel",
            "_view_count": null,
            "_view_module": "@jupyter-widgets/base",
            "_view_module_version": "1.2.0",
            "_view_name": "LayoutView",
            "align_content": null,
            "align_items": null,
            "align_self": null,
            "border": null,
            "bottom": null,
            "display": null,
            "flex": null,
            "flex_flow": null,
            "grid_area": null,
            "grid_auto_columns": null,
            "grid_auto_flow": null,
            "grid_auto_rows": null,
            "grid_column": null,
            "grid_gap": null,
            "grid_row": null,
            "grid_template_areas": null,
            "grid_template_columns": null,
            "grid_template_rows": null,
            "height": null,
            "justify_content": null,
            "justify_items": null,
            "left": null,
            "margin": null,
            "max_height": null,
            "max_width": null,
            "min_height": null,
            "min_width": null,
            "object_fit": null,
            "object_position": null,
            "order": null,
            "overflow": null,
            "overflow_x": null,
            "overflow_y": null,
            "padding": null,
            "right": null,
            "top": null,
            "visibility": null,
            "width": null
          }
        },
        "3cdc77760d2d4890ad6e9e6006facda9": {
          "model_module": "@jupyter-widgets/controls",
          "model_name": "DescriptionStyleModel",
          "model_module_version": "1.5.0",
          "state": {
            "_model_module": "@jupyter-widgets/controls",
            "_model_module_version": "1.5.0",
            "_model_name": "DescriptionStyleModel",
            "_view_count": null,
            "_view_module": "@jupyter-widgets/base",
            "_view_module_version": "1.2.0",
            "_view_name": "StyleView",
            "description_width": ""
          }
        },
        "943daaa4315244968ecd7114e2f9310b": {
          "model_module": "@jupyter-widgets/base",
          "model_name": "LayoutModel",
          "model_module_version": "1.2.0",
          "state": {
            "_model_module": "@jupyter-widgets/base",
            "_model_module_version": "1.2.0",
            "_model_name": "LayoutModel",
            "_view_count": null,
            "_view_module": "@jupyter-widgets/base",
            "_view_module_version": "1.2.0",
            "_view_name": "LayoutView",
            "align_content": null,
            "align_items": null,
            "align_self": null,
            "border": null,
            "bottom": null,
            "display": null,
            "flex": null,
            "flex_flow": null,
            "grid_area": null,
            "grid_auto_columns": null,
            "grid_auto_flow": null,
            "grid_auto_rows": null,
            "grid_column": null,
            "grid_gap": null,
            "grid_row": null,
            "grid_template_areas": null,
            "grid_template_columns": null,
            "grid_template_rows": null,
            "height": null,
            "justify_content": null,
            "justify_items": null,
            "left": null,
            "margin": null,
            "max_height": null,
            "max_width": null,
            "min_height": null,
            "min_width": null,
            "object_fit": null,
            "object_position": null,
            "order": null,
            "overflow": null,
            "overflow_x": null,
            "overflow_y": null,
            "padding": null,
            "right": null,
            "top": null,
            "visibility": null,
            "width": null
          }
        },
        "a37b253222504397860dedd64d47c803": {
          "model_module": "@jupyter-widgets/controls",
          "model_name": "ProgressStyleModel",
          "model_module_version": "1.5.0",
          "state": {
            "_model_module": "@jupyter-widgets/controls",
            "_model_module_version": "1.5.0",
            "_model_name": "ProgressStyleModel",
            "_view_count": null,
            "_view_module": "@jupyter-widgets/base",
            "_view_module_version": "1.2.0",
            "_view_name": "StyleView",
            "bar_color": null,
            "description_width": ""
          }
        },
        "96fc927e42044d018411aa17a874ed2f": {
          "model_module": "@jupyter-widgets/base",
          "model_name": "LayoutModel",
          "model_module_version": "1.2.0",
          "state": {
            "_model_module": "@jupyter-widgets/base",
            "_model_module_version": "1.2.0",
            "_model_name": "LayoutModel",
            "_view_count": null,
            "_view_module": "@jupyter-widgets/base",
            "_view_module_version": "1.2.0",
            "_view_name": "LayoutView",
            "align_content": null,
            "align_items": null,
            "align_self": null,
            "border": null,
            "bottom": null,
            "display": null,
            "flex": null,
            "flex_flow": null,
            "grid_area": null,
            "grid_auto_columns": null,
            "grid_auto_flow": null,
            "grid_auto_rows": null,
            "grid_column": null,
            "grid_gap": null,
            "grid_row": null,
            "grid_template_areas": null,
            "grid_template_columns": null,
            "grid_template_rows": null,
            "height": null,
            "justify_content": null,
            "justify_items": null,
            "left": null,
            "margin": null,
            "max_height": null,
            "max_width": null,
            "min_height": null,
            "min_width": null,
            "object_fit": null,
            "object_position": null,
            "order": null,
            "overflow": null,
            "overflow_x": null,
            "overflow_y": null,
            "padding": null,
            "right": null,
            "top": null,
            "visibility": null,
            "width": null
          }
        },
        "a423f9af7ba649c9b274709e5b43f6c8": {
          "model_module": "@jupyter-widgets/controls",
          "model_name": "DescriptionStyleModel",
          "model_module_version": "1.5.0",
          "state": {
            "_model_module": "@jupyter-widgets/controls",
            "_model_module_version": "1.5.0",
            "_model_name": "DescriptionStyleModel",
            "_view_count": null,
            "_view_module": "@jupyter-widgets/base",
            "_view_module_version": "1.2.0",
            "_view_name": "StyleView",
            "description_width": ""
          }
        },
        "51deb284fd124ec58e139d81b9b5c1b7": {
          "model_module": "@jupyter-widgets/controls",
          "model_name": "HBoxModel",
          "model_module_version": "1.5.0",
          "state": {
            "_dom_classes": [],
            "_model_module": "@jupyter-widgets/controls",
            "_model_module_version": "1.5.0",
            "_model_name": "HBoxModel",
            "_view_count": null,
            "_view_module": "@jupyter-widgets/controls",
            "_view_module_version": "1.5.0",
            "_view_name": "HBoxView",
            "box_style": "",
            "children": [
              "IPY_MODEL_11cf8274e1404543b8636d1499cf7301",
              "IPY_MODEL_5670a7c4f8e04842a6dd45ff26e2147e",
              "IPY_MODEL_29b53b556a2647f780a9d0b5493c69ad"
            ],
            "layout": "IPY_MODEL_ca345f7edea14031a23a4641427a1441"
          }
        },
        "11cf8274e1404543b8636d1499cf7301": {
          "model_module": "@jupyter-widgets/controls",
          "model_name": "HTMLModel",
          "model_module_version": "1.5.0",
          "state": {
            "_dom_classes": [],
            "_model_module": "@jupyter-widgets/controls",
            "_model_module_version": "1.5.0",
            "_model_name": "HTMLModel",
            "_view_count": null,
            "_view_module": "@jupyter-widgets/controls",
            "_view_module_version": "1.5.0",
            "_view_name": "HTMLView",
            "description": "",
            "description_tooltip": null,
            "layout": "IPY_MODEL_f8d76e1a41f944c6a15674a65b4f33f9",
            "placeholder": "​",
            "style": "IPY_MODEL_fb3279bc9bf34561876b751dbb8cd840",
            "value": "Map: 100%"
          }
        },
        "5670a7c4f8e04842a6dd45ff26e2147e": {
          "model_module": "@jupyter-widgets/controls",
          "model_name": "FloatProgressModel",
          "model_module_version": "1.5.0",
          "state": {
            "_dom_classes": [],
            "_model_module": "@jupyter-widgets/controls",
            "_model_module_version": "1.5.0",
            "_model_name": "FloatProgressModel",
            "_view_count": null,
            "_view_module": "@jupyter-widgets/controls",
            "_view_module_version": "1.5.0",
            "_view_name": "ProgressView",
            "bar_style": "success",
            "description": "",
            "description_tooltip": null,
            "layout": "IPY_MODEL_d905e9d645924266b58c0035ce32c70c",
            "max": 900,
            "min": 0,
            "orientation": "horizontal",
            "style": "IPY_MODEL_1fb99df9146448b1a87d56789d846303",
            "value": 900
          }
        },
        "29b53b556a2647f780a9d0b5493c69ad": {
          "model_module": "@jupyter-widgets/controls",
          "model_name": "HTMLModel",
          "model_module_version": "1.5.0",
          "state": {
            "_dom_classes": [],
            "_model_module": "@jupyter-widgets/controls",
            "_model_module_version": "1.5.0",
            "_model_name": "HTMLModel",
            "_view_count": null,
            "_view_module": "@jupyter-widgets/controls",
            "_view_module_version": "1.5.0",
            "_view_name": "HTMLView",
            "description": "",
            "description_tooltip": null,
            "layout": "IPY_MODEL_584a5a11c42c49d481359b123044a14e",
            "placeholder": "​",
            "style": "IPY_MODEL_54bf0e9fb4a94f949525685f912eb66f",
            "value": " 900/900 [00:00&lt;00:00, 2944.87 examples/s]"
          }
        },
        "ca345f7edea14031a23a4641427a1441": {
          "model_module": "@jupyter-widgets/base",
          "model_name": "LayoutModel",
          "model_module_version": "1.2.0",
          "state": {
            "_model_module": "@jupyter-widgets/base",
            "_model_module_version": "1.2.0",
            "_model_name": "LayoutModel",
            "_view_count": null,
            "_view_module": "@jupyter-widgets/base",
            "_view_module_version": "1.2.0",
            "_view_name": "LayoutView",
            "align_content": null,
            "align_items": null,
            "align_self": null,
            "border": null,
            "bottom": null,
            "display": null,
            "flex": null,
            "flex_flow": null,
            "grid_area": null,
            "grid_auto_columns": null,
            "grid_auto_flow": null,
            "grid_auto_rows": null,
            "grid_column": null,
            "grid_gap": null,
            "grid_row": null,
            "grid_template_areas": null,
            "grid_template_columns": null,
            "grid_template_rows": null,
            "height": null,
            "justify_content": null,
            "justify_items": null,
            "left": null,
            "margin": null,
            "max_height": null,
            "max_width": null,
            "min_height": null,
            "min_width": null,
            "object_fit": null,
            "object_position": null,
            "order": null,
            "overflow": null,
            "overflow_x": null,
            "overflow_y": null,
            "padding": null,
            "right": null,
            "top": null,
            "visibility": null,
            "width": null
          }
        },
        "f8d76e1a41f944c6a15674a65b4f33f9": {
          "model_module": "@jupyter-widgets/base",
          "model_name": "LayoutModel",
          "model_module_version": "1.2.0",
          "state": {
            "_model_module": "@jupyter-widgets/base",
            "_model_module_version": "1.2.0",
            "_model_name": "LayoutModel",
            "_view_count": null,
            "_view_module": "@jupyter-widgets/base",
            "_view_module_version": "1.2.0",
            "_view_name": "LayoutView",
            "align_content": null,
            "align_items": null,
            "align_self": null,
            "border": null,
            "bottom": null,
            "display": null,
            "flex": null,
            "flex_flow": null,
            "grid_area": null,
            "grid_auto_columns": null,
            "grid_auto_flow": null,
            "grid_auto_rows": null,
            "grid_column": null,
            "grid_gap": null,
            "grid_row": null,
            "grid_template_areas": null,
            "grid_template_columns": null,
            "grid_template_rows": null,
            "height": null,
            "justify_content": null,
            "justify_items": null,
            "left": null,
            "margin": null,
            "max_height": null,
            "max_width": null,
            "min_height": null,
            "min_width": null,
            "object_fit": null,
            "object_position": null,
            "order": null,
            "overflow": null,
            "overflow_x": null,
            "overflow_y": null,
            "padding": null,
            "right": null,
            "top": null,
            "visibility": null,
            "width": null
          }
        },
        "fb3279bc9bf34561876b751dbb8cd840": {
          "model_module": "@jupyter-widgets/controls",
          "model_name": "DescriptionStyleModel",
          "model_module_version": "1.5.0",
          "state": {
            "_model_module": "@jupyter-widgets/controls",
            "_model_module_version": "1.5.0",
            "_model_name": "DescriptionStyleModel",
            "_view_count": null,
            "_view_module": "@jupyter-widgets/base",
            "_view_module_version": "1.2.0",
            "_view_name": "StyleView",
            "description_width": ""
          }
        },
        "d905e9d645924266b58c0035ce32c70c": {
          "model_module": "@jupyter-widgets/base",
          "model_name": "LayoutModel",
          "model_module_version": "1.2.0",
          "state": {
            "_model_module": "@jupyter-widgets/base",
            "_model_module_version": "1.2.0",
            "_model_name": "LayoutModel",
            "_view_count": null,
            "_view_module": "@jupyter-widgets/base",
            "_view_module_version": "1.2.0",
            "_view_name": "LayoutView",
            "align_content": null,
            "align_items": null,
            "align_self": null,
            "border": null,
            "bottom": null,
            "display": null,
            "flex": null,
            "flex_flow": null,
            "grid_area": null,
            "grid_auto_columns": null,
            "grid_auto_flow": null,
            "grid_auto_rows": null,
            "grid_column": null,
            "grid_gap": null,
            "grid_row": null,
            "grid_template_areas": null,
            "grid_template_columns": null,
            "grid_template_rows": null,
            "height": null,
            "justify_content": null,
            "justify_items": null,
            "left": null,
            "margin": null,
            "max_height": null,
            "max_width": null,
            "min_height": null,
            "min_width": null,
            "object_fit": null,
            "object_position": null,
            "order": null,
            "overflow": null,
            "overflow_x": null,
            "overflow_y": null,
            "padding": null,
            "right": null,
            "top": null,
            "visibility": null,
            "width": null
          }
        },
        "1fb99df9146448b1a87d56789d846303": {
          "model_module": "@jupyter-widgets/controls",
          "model_name": "ProgressStyleModel",
          "model_module_version": "1.5.0",
          "state": {
            "_model_module": "@jupyter-widgets/controls",
            "_model_module_version": "1.5.0",
            "_model_name": "ProgressStyleModel",
            "_view_count": null,
            "_view_module": "@jupyter-widgets/base",
            "_view_module_version": "1.2.0",
            "_view_name": "StyleView",
            "bar_color": null,
            "description_width": ""
          }
        },
        "584a5a11c42c49d481359b123044a14e": {
          "model_module": "@jupyter-widgets/base",
          "model_name": "LayoutModel",
          "model_module_version": "1.2.0",
          "state": {
            "_model_module": "@jupyter-widgets/base",
            "_model_module_version": "1.2.0",
            "_model_name": "LayoutModel",
            "_view_count": null,
            "_view_module": "@jupyter-widgets/base",
            "_view_module_version": "1.2.0",
            "_view_name": "LayoutView",
            "align_content": null,
            "align_items": null,
            "align_self": null,
            "border": null,
            "bottom": null,
            "display": null,
            "flex": null,
            "flex_flow": null,
            "grid_area": null,
            "grid_auto_columns": null,
            "grid_auto_flow": null,
            "grid_auto_rows": null,
            "grid_column": null,
            "grid_gap": null,
            "grid_row": null,
            "grid_template_areas": null,
            "grid_template_columns": null,
            "grid_template_rows": null,
            "height": null,
            "justify_content": null,
            "justify_items": null,
            "left": null,
            "margin": null,
            "max_height": null,
            "max_width": null,
            "min_height": null,
            "min_width": null,
            "object_fit": null,
            "object_position": null,
            "order": null,
            "overflow": null,
            "overflow_x": null,
            "overflow_y": null,
            "padding": null,
            "right": null,
            "top": null,
            "visibility": null,
            "width": null
          }
        },
        "54bf0e9fb4a94f949525685f912eb66f": {
          "model_module": "@jupyter-widgets/controls",
          "model_name": "DescriptionStyleModel",
          "model_module_version": "1.5.0",
          "state": {
            "_model_module": "@jupyter-widgets/controls",
            "_model_module_version": "1.5.0",
            "_model_name": "DescriptionStyleModel",
            "_view_count": null,
            "_view_module": "@jupyter-widgets/base",
            "_view_module_version": "1.2.0",
            "_view_name": "StyleView",
            "description_width": ""
          }
        },
        "0a06ff5bd35b450da08d5e27f4fe5926": {
          "model_module": "@jupyter-widgets/controls",
          "model_name": "HBoxModel",
          "model_module_version": "1.5.0",
          "state": {
            "_dom_classes": [],
            "_model_module": "@jupyter-widgets/controls",
            "_model_module_version": "1.5.0",
            "_model_name": "HBoxModel",
            "_view_count": null,
            "_view_module": "@jupyter-widgets/controls",
            "_view_module_version": "1.5.0",
            "_view_name": "HBoxView",
            "box_style": "",
            "children": [
              "IPY_MODEL_42b210f15d1f480a8bb46aed6af9a795",
              "IPY_MODEL_3e8b330053e943498584f12afb24b6e4",
              "IPY_MODEL_cef52cc5bc0e474abd7ef66c861d926a"
            ],
            "layout": "IPY_MODEL_2b2ee3f6c84c42b3b575549c6685e989"
          }
        },
        "42b210f15d1f480a8bb46aed6af9a795": {
          "model_module": "@jupyter-widgets/controls",
          "model_name": "HTMLModel",
          "model_module_version": "1.5.0",
          "state": {
            "_dom_classes": [],
            "_model_module": "@jupyter-widgets/controls",
            "_model_module_version": "1.5.0",
            "_model_name": "HTMLModel",
            "_view_count": null,
            "_view_module": "@jupyter-widgets/controls",
            "_view_module_version": "1.5.0",
            "_view_name": "HTMLView",
            "description": "",
            "description_tooltip": null,
            "layout": "IPY_MODEL_9ee88d2dcd454e27ac44e2e9a93cbf74",
            "placeholder": "​",
            "style": "IPY_MODEL_600c5c4cf32445e09d7f4162c88919bb",
            "value": "Map: 100%"
          }
        },
        "3e8b330053e943498584f12afb24b6e4": {
          "model_module": "@jupyter-widgets/controls",
          "model_name": "FloatProgressModel",
          "model_module_version": "1.5.0",
          "state": {
            "_dom_classes": [],
            "_model_module": "@jupyter-widgets/controls",
            "_model_module_version": "1.5.0",
            "_model_name": "FloatProgressModel",
            "_view_count": null,
            "_view_module": "@jupyter-widgets/controls",
            "_view_module_version": "1.5.0",
            "_view_name": "ProgressView",
            "bar_style": "success",
            "description": "",
            "description_tooltip": null,
            "layout": "IPY_MODEL_49a3d5240eed49b0bd2ca3c1ccfd551a",
            "max": 150,
            "min": 0,
            "orientation": "horizontal",
            "style": "IPY_MODEL_95b00f56396d4b109dcf817f57139e59",
            "value": 150
          }
        },
        "cef52cc5bc0e474abd7ef66c861d926a": {
          "model_module": "@jupyter-widgets/controls",
          "model_name": "HTMLModel",
          "model_module_version": "1.5.0",
          "state": {
            "_dom_classes": [],
            "_model_module": "@jupyter-widgets/controls",
            "_model_module_version": "1.5.0",
            "_model_name": "HTMLModel",
            "_view_count": null,
            "_view_module": "@jupyter-widgets/controls",
            "_view_module_version": "1.5.0",
            "_view_name": "HTMLView",
            "description": "",
            "description_tooltip": null,
            "layout": "IPY_MODEL_6b689c4c50ec490fb258f8808fc909a6",
            "placeholder": "​",
            "style": "IPY_MODEL_f42bfeaa98804f0fa16c882a1a607d3b",
            "value": " 150/150 [00:00&lt;00:00, 2271.45 examples/s]"
          }
        },
        "2b2ee3f6c84c42b3b575549c6685e989": {
          "model_module": "@jupyter-widgets/base",
          "model_name": "LayoutModel",
          "model_module_version": "1.2.0",
          "state": {
            "_model_module": "@jupyter-widgets/base",
            "_model_module_version": "1.2.0",
            "_model_name": "LayoutModel",
            "_view_count": null,
            "_view_module": "@jupyter-widgets/base",
            "_view_module_version": "1.2.0",
            "_view_name": "LayoutView",
            "align_content": null,
            "align_items": null,
            "align_self": null,
            "border": null,
            "bottom": null,
            "display": null,
            "flex": null,
            "flex_flow": null,
            "grid_area": null,
            "grid_auto_columns": null,
            "grid_auto_flow": null,
            "grid_auto_rows": null,
            "grid_column": null,
            "grid_gap": null,
            "grid_row": null,
            "grid_template_areas": null,
            "grid_template_columns": null,
            "grid_template_rows": null,
            "height": null,
            "justify_content": null,
            "justify_items": null,
            "left": null,
            "margin": null,
            "max_height": null,
            "max_width": null,
            "min_height": null,
            "min_width": null,
            "object_fit": null,
            "object_position": null,
            "order": null,
            "overflow": null,
            "overflow_x": null,
            "overflow_y": null,
            "padding": null,
            "right": null,
            "top": null,
            "visibility": null,
            "width": null
          }
        },
        "9ee88d2dcd454e27ac44e2e9a93cbf74": {
          "model_module": "@jupyter-widgets/base",
          "model_name": "LayoutModel",
          "model_module_version": "1.2.0",
          "state": {
            "_model_module": "@jupyter-widgets/base",
            "_model_module_version": "1.2.0",
            "_model_name": "LayoutModel",
            "_view_count": null,
            "_view_module": "@jupyter-widgets/base",
            "_view_module_version": "1.2.0",
            "_view_name": "LayoutView",
            "align_content": null,
            "align_items": null,
            "align_self": null,
            "border": null,
            "bottom": null,
            "display": null,
            "flex": null,
            "flex_flow": null,
            "grid_area": null,
            "grid_auto_columns": null,
            "grid_auto_flow": null,
            "grid_auto_rows": null,
            "grid_column": null,
            "grid_gap": null,
            "grid_row": null,
            "grid_template_areas": null,
            "grid_template_columns": null,
            "grid_template_rows": null,
            "height": null,
            "justify_content": null,
            "justify_items": null,
            "left": null,
            "margin": null,
            "max_height": null,
            "max_width": null,
            "min_height": null,
            "min_width": null,
            "object_fit": null,
            "object_position": null,
            "order": null,
            "overflow": null,
            "overflow_x": null,
            "overflow_y": null,
            "padding": null,
            "right": null,
            "top": null,
            "visibility": null,
            "width": null
          }
        },
        "600c5c4cf32445e09d7f4162c88919bb": {
          "model_module": "@jupyter-widgets/controls",
          "model_name": "DescriptionStyleModel",
          "model_module_version": "1.5.0",
          "state": {
            "_model_module": "@jupyter-widgets/controls",
            "_model_module_version": "1.5.0",
            "_model_name": "DescriptionStyleModel",
            "_view_count": null,
            "_view_module": "@jupyter-widgets/base",
            "_view_module_version": "1.2.0",
            "_view_name": "StyleView",
            "description_width": ""
          }
        },
        "49a3d5240eed49b0bd2ca3c1ccfd551a": {
          "model_module": "@jupyter-widgets/base",
          "model_name": "LayoutModel",
          "model_module_version": "1.2.0",
          "state": {
            "_model_module": "@jupyter-widgets/base",
            "_model_module_version": "1.2.0",
            "_model_name": "LayoutModel",
            "_view_count": null,
            "_view_module": "@jupyter-widgets/base",
            "_view_module_version": "1.2.0",
            "_view_name": "LayoutView",
            "align_content": null,
            "align_items": null,
            "align_self": null,
            "border": null,
            "bottom": null,
            "display": null,
            "flex": null,
            "flex_flow": null,
            "grid_area": null,
            "grid_auto_columns": null,
            "grid_auto_flow": null,
            "grid_auto_rows": null,
            "grid_column": null,
            "grid_gap": null,
            "grid_row": null,
            "grid_template_areas": null,
            "grid_template_columns": null,
            "grid_template_rows": null,
            "height": null,
            "justify_content": null,
            "justify_items": null,
            "left": null,
            "margin": null,
            "max_height": null,
            "max_width": null,
            "min_height": null,
            "min_width": null,
            "object_fit": null,
            "object_position": null,
            "order": null,
            "overflow": null,
            "overflow_x": null,
            "overflow_y": null,
            "padding": null,
            "right": null,
            "top": null,
            "visibility": null,
            "width": null
          }
        },
        "95b00f56396d4b109dcf817f57139e59": {
          "model_module": "@jupyter-widgets/controls",
          "model_name": "ProgressStyleModel",
          "model_module_version": "1.5.0",
          "state": {
            "_model_module": "@jupyter-widgets/controls",
            "_model_module_version": "1.5.0",
            "_model_name": "ProgressStyleModel",
            "_view_count": null,
            "_view_module": "@jupyter-widgets/base",
            "_view_module_version": "1.2.0",
            "_view_name": "StyleView",
            "bar_color": null,
            "description_width": ""
          }
        },
        "6b689c4c50ec490fb258f8808fc909a6": {
          "model_module": "@jupyter-widgets/base",
          "model_name": "LayoutModel",
          "model_module_version": "1.2.0",
          "state": {
            "_model_module": "@jupyter-widgets/base",
            "_model_module_version": "1.2.0",
            "_model_name": "LayoutModel",
            "_view_count": null,
            "_view_module": "@jupyter-widgets/base",
            "_view_module_version": "1.2.0",
            "_view_name": "LayoutView",
            "align_content": null,
            "align_items": null,
            "align_self": null,
            "border": null,
            "bottom": null,
            "display": null,
            "flex": null,
            "flex_flow": null,
            "grid_area": null,
            "grid_auto_columns": null,
            "grid_auto_flow": null,
            "grid_auto_rows": null,
            "grid_column": null,
            "grid_gap": null,
            "grid_row": null,
            "grid_template_areas": null,
            "grid_template_columns": null,
            "grid_template_rows": null,
            "height": null,
            "justify_content": null,
            "justify_items": null,
            "left": null,
            "margin": null,
            "max_height": null,
            "max_width": null,
            "min_height": null,
            "min_width": null,
            "object_fit": null,
            "object_position": null,
            "order": null,
            "overflow": null,
            "overflow_x": null,
            "overflow_y": null,
            "padding": null,
            "right": null,
            "top": null,
            "visibility": null,
            "width": null
          }
        },
        "f42bfeaa98804f0fa16c882a1a607d3b": {
          "model_module": "@jupyter-widgets/controls",
          "model_name": "DescriptionStyleModel",
          "model_module_version": "1.5.0",
          "state": {
            "_model_module": "@jupyter-widgets/controls",
            "_model_module_version": "1.5.0",
            "_model_name": "DescriptionStyleModel",
            "_view_count": null,
            "_view_module": "@jupyter-widgets/base",
            "_view_module_version": "1.2.0",
            "_view_name": "StyleView",
            "description_width": ""
          }
        }
      }
    },
    "colab": {
      "provenance": [],
      "name": "fine-tune-llama-2-for-sentiment-analysis.ipynb"
    }
  },
  "nbformat": 4,
  "nbformat_minor": 5
}